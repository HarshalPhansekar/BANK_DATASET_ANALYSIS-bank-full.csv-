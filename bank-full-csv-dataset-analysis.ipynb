{
  "nbformat": 4,
  "nbformat_minor": 0,
  "metadata": {
    "kernelspec": {
      "display_name": "Python 3",
      "language": "python",
      "name": "python3"
    },
    "language_info": {
      "codemirror_mode": {
        "name": "ipython",
        "version": 3
      },
      "file_extension": ".py",
      "mimetype": "text/x-python",
      "name": "python",
      "nbconvert_exporter": "python",
      "pygments_lexer": "ipython3",
      "version": "3.7.6"
    },
    "papermill": {
      "duration": 23.903048,
      "end_time": "2020-09-13T15:03:32.303444",
      "environment_variables": {},
      "exception": null,
      "input_path": "__notebook__.ipynb",
      "output_path": "__notebook__.ipynb",
      "parameters": {},
      "start_time": "2020-09-13T15:03:08.400396",
      "version": "2.1.0"
    },
    "colab": {
      "name": "199014_HARSHAL.ipynb",
      "provenance": [],
      "toc_visible": true
    }
  },
  "cells": [
    {
      "cell_type": "markdown",
      "metadata": {
        "papermill": {
          "duration": 0.040457,
          "end_time": "2020-09-13T15:03:13.095895",
          "exception": false,
          "start_time": "2020-09-13T15:03:13.055438",
          "status": "completed"
        },
        "tags": [],
        "id": "GsOOHGvlMuUa"
      },
      "source": [
        "# **Importing the Libraries**"
      ]
    },
    {
      "cell_type": "code",
      "metadata": {
        "_cell_guid": "b1076dfc-b9ad-4769-8c92-a6c4dae69d19",
        "_uuid": "8f2839f25d086af736a60e9eeb907d3b93b6e0e5",
        "execution": {
          "iopub.execute_input": "2020-09-13T15:03:13.173822Z",
          "iopub.status.busy": "2020-09-13T15:03:13.173144Z",
          "iopub.status.idle": "2020-09-13T15:03:14.271065Z",
          "shell.execute_reply": "2020-09-13T15:03:14.270475Z"
        },
        "papermill": {
          "duration": 1.13816,
          "end_time": "2020-09-13T15:03:14.271193",
          "exception": false,
          "start_time": "2020-09-13T15:03:13.133033",
          "status": "completed"
        },
        "tags": [],
        "id": "Z4JXF6QLMuUe",
        "outputId": "e93d78cf-6cee-44d1-92ac-5c454b5ac471",
        "colab": {
          "base_uri": "https://localhost:8080/",
          "height": 72
        }
      },
      "source": [
        "import numpy as np\n",
        "import pandas as pd \n",
        "import matplotlib.pyplot as plt\n",
        "import seaborn as sns"
      ],
      "execution_count": null,
      "outputs": [
        {
          "output_type": "stream",
          "text": [
            "/usr/local/lib/python3.6/dist-packages/statsmodels/tools/_testing.py:19: FutureWarning: pandas.util.testing is deprecated. Use the functions in the public API at pandas.testing instead.\n",
            "  import pandas.util.testing as tm\n"
          ],
          "name": "stderr"
        }
      ]
    },
    {
      "cell_type": "markdown",
      "metadata": {
        "papermill": {
          "duration": 0.036804,
          "end_time": "2020-09-13T15:03:14.348011",
          "exception": false,
          "start_time": "2020-09-13T15:03:14.311207",
          "status": "completed"
        },
        "tags": [],
        "id": "iHN4_bbjMuUw"
      },
      "source": [
        "# Importing the Dataset"
      ]
    },
    {
      "cell_type": "code",
      "metadata": {
        "id": "weY-u8yqPmtR",
        "outputId": "cbe26ba1-dc81-4f3f-b774-bd44a82f9155",
        "colab": {
          "resources": {
            "http://localhost:8080/nbextensions/google.colab/files.js": {
              "data": "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",
              "ok": true,
              "headers": [
                [
                  "content-type",
                  "application/javascript"
                ]
              ],
              "status": 200,
              "status_text": "OK"
            }
          },
          "base_uri": "https://localhost:8080/",
          "height": 75
        }
      },
      "source": [
        "from google.colab import files\n",
        "uploaded = files.upload()"
      ],
      "execution_count": null,
      "outputs": [
        {
          "output_type": "display_data",
          "data": {
            "text/html": [
              "\n",
              "     <input type=\"file\" id=\"files-5f3e3e32-6006-49fc-9cf1-441787912e11\" name=\"files[]\" multiple disabled\n",
              "        style=\"border:none\" />\n",
              "     <output id=\"result-5f3e3e32-6006-49fc-9cf1-441787912e11\">\n",
              "      Upload widget is only available when the cell has been executed in the\n",
              "      current browser session. Please rerun this cell to enable.\n",
              "      </output>\n",
              "      <script src=\"/nbextensions/google.colab/files.js\"></script> "
            ],
            "text/plain": [
              "<IPython.core.display.HTML object>"
            ]
          },
          "metadata": {
            "tags": []
          }
        },
        {
          "output_type": "stream",
          "text": [
            "Saving bank-full.csv to bank-full.csv\n"
          ],
          "name": "stdout"
        }
      ]
    },
    {
      "cell_type": "code",
      "metadata": {
        "execution": {
          "iopub.execute_input": "2020-09-13T15:03:14.432948Z",
          "iopub.status.busy": "2020-09-13T15:03:14.432163Z",
          "iopub.status.idle": "2020-09-13T15:03:14.576811Z",
          "shell.execute_reply": "2020-09-13T15:03:14.576115Z"
        },
        "papermill": {
          "duration": 0.190997,
          "end_time": "2020-09-13T15:03:14.576963",
          "exception": false,
          "start_time": "2020-09-13T15:03:14.385966",
          "status": "completed"
        },
        "tags": [],
        "id": "3mA_Cn2yMuU4"
      },
      "source": [
        "dt=pd.read_csv('bank-full.csv')"
      ],
      "execution_count": null,
      "outputs": []
    },
    {
      "cell_type": "code",
      "metadata": {
        "execution": {
          "iopub.execute_input": "2020-09-13T15:03:14.671792Z",
          "iopub.status.busy": "2020-09-13T15:03:14.671110Z",
          "iopub.status.idle": "2020-09-13T15:03:14.685244Z",
          "shell.execute_reply": "2020-09-13T15:03:14.684686Z"
        },
        "papermill": {
          "duration": 0.070014,
          "end_time": "2020-09-13T15:03:14.685354",
          "exception": false,
          "start_time": "2020-09-13T15:03:14.615340",
          "status": "completed"
        },
        "tags": [],
        "id": "tWckdw8TMuVF",
        "outputId": "ab6b4e41-6b0d-4a6b-d09d-c453fc82a67f",
        "colab": {
          "base_uri": "https://localhost:8080/",
          "height": 206
        }
      },
      "source": [
        "dt.head()"
      ],
      "execution_count": null,
      "outputs": [
        {
          "output_type": "execute_result",
          "data": {
            "text/html": [
              "<div>\n",
              "<style scoped>\n",
              "    .dataframe tbody tr th:only-of-type {\n",
              "        vertical-align: middle;\n",
              "    }\n",
              "\n",
              "    .dataframe tbody tr th {\n",
              "        vertical-align: top;\n",
              "    }\n",
              "\n",
              "    .dataframe thead th {\n",
              "        text-align: right;\n",
              "    }\n",
              "</style>\n",
              "<table border=\"1\" class=\"dataframe\">\n",
              "  <thead>\n",
              "    <tr style=\"text-align: right;\">\n",
              "      <th></th>\n",
              "      <th>age</th>\n",
              "      <th>job</th>\n",
              "      <th>marital</th>\n",
              "      <th>education</th>\n",
              "      <th>default</th>\n",
              "      <th>balance</th>\n",
              "      <th>housing</th>\n",
              "      <th>loan</th>\n",
              "      <th>contact</th>\n",
              "      <th>day</th>\n",
              "      <th>month</th>\n",
              "      <th>duration</th>\n",
              "      <th>campaign</th>\n",
              "      <th>pdays</th>\n",
              "      <th>previous</th>\n",
              "      <th>poutcome</th>\n",
              "      <th>Target</th>\n",
              "    </tr>\n",
              "  </thead>\n",
              "  <tbody>\n",
              "    <tr>\n",
              "      <th>0</th>\n",
              "      <td>58</td>\n",
              "      <td>management</td>\n",
              "      <td>married</td>\n",
              "      <td>tertiary</td>\n",
              "      <td>no</td>\n",
              "      <td>2143</td>\n",
              "      <td>yes</td>\n",
              "      <td>no</td>\n",
              "      <td>unknown</td>\n",
              "      <td>5</td>\n",
              "      <td>may</td>\n",
              "      <td>261</td>\n",
              "      <td>1</td>\n",
              "      <td>-1</td>\n",
              "      <td>0</td>\n",
              "      <td>unknown</td>\n",
              "      <td>no</td>\n",
              "    </tr>\n",
              "    <tr>\n",
              "      <th>1</th>\n",
              "      <td>44</td>\n",
              "      <td>technician</td>\n",
              "      <td>single</td>\n",
              "      <td>secondary</td>\n",
              "      <td>no</td>\n",
              "      <td>29</td>\n",
              "      <td>yes</td>\n",
              "      <td>no</td>\n",
              "      <td>unknown</td>\n",
              "      <td>5</td>\n",
              "      <td>may</td>\n",
              "      <td>151</td>\n",
              "      <td>1</td>\n",
              "      <td>-1</td>\n",
              "      <td>0</td>\n",
              "      <td>unknown</td>\n",
              "      <td>no</td>\n",
              "    </tr>\n",
              "    <tr>\n",
              "      <th>2</th>\n",
              "      <td>33</td>\n",
              "      <td>entrepreneur</td>\n",
              "      <td>married</td>\n",
              "      <td>secondary</td>\n",
              "      <td>no</td>\n",
              "      <td>2</td>\n",
              "      <td>yes</td>\n",
              "      <td>yes</td>\n",
              "      <td>unknown</td>\n",
              "      <td>5</td>\n",
              "      <td>may</td>\n",
              "      <td>76</td>\n",
              "      <td>1</td>\n",
              "      <td>-1</td>\n",
              "      <td>0</td>\n",
              "      <td>unknown</td>\n",
              "      <td>no</td>\n",
              "    </tr>\n",
              "    <tr>\n",
              "      <th>3</th>\n",
              "      <td>47</td>\n",
              "      <td>blue-collar</td>\n",
              "      <td>married</td>\n",
              "      <td>unknown</td>\n",
              "      <td>no</td>\n",
              "      <td>1506</td>\n",
              "      <td>yes</td>\n",
              "      <td>no</td>\n",
              "      <td>unknown</td>\n",
              "      <td>5</td>\n",
              "      <td>may</td>\n",
              "      <td>92</td>\n",
              "      <td>1</td>\n",
              "      <td>-1</td>\n",
              "      <td>0</td>\n",
              "      <td>unknown</td>\n",
              "      <td>no</td>\n",
              "    </tr>\n",
              "    <tr>\n",
              "      <th>4</th>\n",
              "      <td>33</td>\n",
              "      <td>unknown</td>\n",
              "      <td>single</td>\n",
              "      <td>unknown</td>\n",
              "      <td>no</td>\n",
              "      <td>1</td>\n",
              "      <td>no</td>\n",
              "      <td>no</td>\n",
              "      <td>unknown</td>\n",
              "      <td>5</td>\n",
              "      <td>may</td>\n",
              "      <td>198</td>\n",
              "      <td>1</td>\n",
              "      <td>-1</td>\n",
              "      <td>0</td>\n",
              "      <td>unknown</td>\n",
              "      <td>no</td>\n",
              "    </tr>\n",
              "  </tbody>\n",
              "</table>\n",
              "</div>"
            ],
            "text/plain": [
              "   age           job  marital  education  ... pdays  previous poutcome Target\n",
              "0   58    management  married   tertiary  ...    -1         0  unknown     no\n",
              "1   44    technician   single  secondary  ...    -1         0  unknown     no\n",
              "2   33  entrepreneur  married  secondary  ...    -1         0  unknown     no\n",
              "3   47   blue-collar  married    unknown  ...    -1         0  unknown     no\n",
              "4   33       unknown   single    unknown  ...    -1         0  unknown     no\n",
              "\n",
              "[5 rows x 17 columns]"
            ]
          },
          "metadata": {
            "tags": []
          },
          "execution_count": 8
        }
      ]
    },
    {
      "cell_type": "code",
      "metadata": {
        "execution": {
          "iopub.execute_input": "2020-09-13T15:03:14.765312Z",
          "iopub.status.busy": "2020-09-13T15:03:14.764652Z",
          "iopub.status.idle": "2020-09-13T15:03:14.990496Z",
          "shell.execute_reply": "2020-09-13T15:03:14.991032Z"
        },
        "papermill": {
          "duration": 0.267454,
          "end_time": "2020-09-13T15:03:14.991176",
          "exception": false,
          "start_time": "2020-09-13T15:03:14.723722",
          "status": "completed"
        },
        "tags": [],
        "id": "pN0dhjeBMuVU",
        "outputId": "8540ce32-c269-49c9-dd8b-f838f0847755"
      },
      "source": [
        "dt['Target'].hist()"
      ],
      "execution_count": null,
      "outputs": [
        {
          "output_type": "execute_result",
          "data": {
            "text/plain": [
              "<matplotlib.axes._subplots.AxesSubplot at 0x7f44629c9350>"
            ]
          },
          "metadata": {
            "tags": []
          },
          "execution_count": 4
        },
        {
          "output_type": "display_data",
          "data": {
            "image/png": "[encoded data removed]",
            "text/plain": [
              "<Figure size 432x288 with 1 Axes>"
            ]
          },
          "metadata": {
            "tags": [],
            "needs_background": "light"
          }
        }
      ]
    },
    {
      "cell_type": "markdown",
      "metadata": {
        "papermill": {
          "duration": 0.039097,
          "end_time": "2020-09-13T15:03:15.070482",
          "exception": false,
          "start_time": "2020-09-13T15:03:15.031385",
          "status": "completed"
        },
        "tags": [],
        "id": "CXSdn3SPMuVg"
      },
      "source": [
        "# data is imbalanced as per above figure"
      ]
    },
    {
      "cell_type": "code",
      "metadata": {
        "execution": {
          "iopub.execute_input": "2020-09-13T15:03:15.202548Z",
          "iopub.status.busy": "2020-09-13T15:03:15.201489Z",
          "iopub.status.idle": "2020-09-13T15:03:15.211572Z",
          "shell.execute_reply": "2020-09-13T15:03:15.211044Z"
        },
        "papermill": {
          "duration": 0.101985,
          "end_time": "2020-09-13T15:03:15.211704",
          "exception": false,
          "start_time": "2020-09-13T15:03:15.109719",
          "status": "completed"
        },
        "tags": [],
        "id": "J2bCsEALMuVj",
        "outputId": "a016c49f-0a85-42c7-c1d4-4a4703204d20"
      },
      "source": [
        "dt.isnull().sum()"
      ],
      "execution_count": null,
      "outputs": [
        {
          "output_type": "execute_result",
          "data": {
            "text/plain": [
              "age          0\n",
              "job          0\n",
              "marital      0\n",
              "education    0\n",
              "default      0\n",
              "balance      0\n",
              "housing      0\n",
              "loan         0\n",
              "contact      0\n",
              "day          0\n",
              "month        0\n",
              "duration     0\n",
              "campaign     0\n",
              "pdays        0\n",
              "previous     0\n",
              "poutcome     0\n",
              "Target       0\n",
              "dtype: int64"
            ]
          },
          "metadata": {
            "tags": []
          },
          "execution_count": 5
        }
      ]
    },
    {
      "cell_type": "code",
      "metadata": {
        "execution": {
          "iopub.execute_input": "2020-09-13T15:03:15.300427Z",
          "iopub.status.busy": "2020-09-13T15:03:15.299759Z",
          "iopub.status.idle": "2020-09-13T15:03:15.357949Z",
          "shell.execute_reply": "2020-09-13T15:03:15.358500Z"
        },
        "papermill": {
          "duration": 0.106688,
          "end_time": "2020-09-13T15:03:15.358667",
          "exception": false,
          "start_time": "2020-09-13T15:03:15.251979",
          "status": "completed"
        },
        "tags": [],
        "id": "D7or_i7UMuV6",
        "outputId": "e300010c-18a3-40c9-8981-e464b2fc5c57"
      },
      "source": [
        "dt.duplicated().sum()"
      ],
      "execution_count": null,
      "outputs": [
        {
          "output_type": "execute_result",
          "data": {
            "text/plain": [
              "0"
            ]
          },
          "metadata": {
            "tags": []
          },
          "execution_count": 6
        }
      ]
    },
    {
      "cell_type": "markdown",
      "metadata": {
        "papermill": {
          "duration": 0.039867,
          "end_time": "2020-09-13T15:03:15.440149",
          "exception": false,
          "start_time": "2020-09-13T15:03:15.400282",
          "status": "completed"
        },
        "tags": [],
        "id": "k3JHiSFBMuWG"
      },
      "source": [
        "# Thus we check for the distribution of variables "
      ]
    },
    {
      "cell_type": "code",
      "metadata": {
        "execution": {
          "iopub.execute_input": "2020-09-13T15:03:15.528358Z",
          "iopub.status.busy": "2020-09-13T15:03:15.527721Z",
          "iopub.status.idle": "2020-09-13T15:03:16.838977Z",
          "shell.execute_reply": "2020-09-13T15:03:16.838371Z"
        },
        "papermill": {
          "duration": 1.358064,
          "end_time": "2020-09-13T15:03:16.839101",
          "exception": false,
          "start_time": "2020-09-13T15:03:15.481037",
          "status": "completed"
        },
        "tags": [],
        "id": "MjCfWmHyMuWI",
        "outputId": "28ef6286-3902-4d33-fb3d-1c29cdffb9d1"
      },
      "source": [
        "fig = plt.figure(figsize = (15,20))\n",
        "ax = fig.gca()\n",
        "dt.hist(ax = ax)\n",
        "plt.show()"
      ],
      "execution_count": null,
      "outputs": [
        {
          "output_type": "stream",
          "text": [
            "/opt/conda/lib/python3.7/site-packages/ipykernel_launcher.py:3: UserWarning: To output multiple subplots, the figure containing the passed axes is being cleared\n",
            "  This is separate from the ipykernel package so we can avoid doing imports until\n"
          ],
          "name": "stderr"
        },
        {
          "output_type": "display_data",
          "data": {
            "image/png": "[encoded data removed]",
            "text/plain": [
              "<Figure size 1080x1440 with 9 Axes>"
            ]
          },
          "metadata": {
            "tags": [],
            "needs_background": "light"
          }
        }
      ]
    },
    {
      "cell_type": "markdown",
      "metadata": {
        "papermill": {
          "duration": 0.042436,
          "end_time": "2020-09-13T15:03:16.924785",
          "exception": false,
          "start_time": "2020-09-13T15:03:16.882349",
          "status": "completed"
        },
        "tags": [],
        "id": "hacKIhVjMuWQ"
      },
      "source": [
        "# Correlation matrix of the variables"
      ]
    },
    {
      "cell_type": "code",
      "metadata": {
        "execution": {
          "iopub.execute_input": "2020-09-13T15:03:17.036383Z",
          "iopub.status.busy": "2020-09-13T15:03:17.035346Z",
          "iopub.status.idle": "2020-09-13T15:03:17.475587Z",
          "shell.execute_reply": "2020-09-13T15:03:17.474999Z"
        },
        "papermill": {
          "duration": 0.503503,
          "end_time": "2020-09-13T15:03:17.475702",
          "exception": false,
          "start_time": "2020-09-13T15:03:16.972199",
          "status": "completed"
        },
        "tags": [],
        "id": "4sJ2ybEuMuWS",
        "outputId": "79a20cf9-ffb8-4e3d-8294-2b036931c92d"
      },
      "source": [
        "plt.figure(figsize=(15,8))\n",
        "sns.heatmap(dt.corr(),annot=True)\n",
        "plt.show()"
      ],
      "execution_count": null,
      "outputs": [
        {
          "output_type": "display_data",
          "data": {
            "image/png": "[encoded data removed]",
            "text/plain": [
              "<Figure size 1080x576 with 2 Axes>"
            ]
          },
          "metadata": {
            "tags": [],
            "needs_background": "light"
          }
        }
      ]
    },
    {
      "cell_type": "markdown",
      "metadata": {
        "papermill": {
          "duration": 0.044404,
          "end_time": "2020-09-13T15:03:17.564665",
          "exception": false,
          "start_time": "2020-09-13T15:03:17.520261",
          "status": "completed"
        },
        "tags": [],
        "id": "Z2TcnZwoMuWc"
      },
      "source": [
        "# Mapping Yes to 1 and No to 0"
      ]
    },
    {
      "cell_type": "code",
      "metadata": {
        "execution": {
          "iopub.execute_input": "2020-09-13T15:03:17.669249Z",
          "iopub.status.busy": "2020-09-13T15:03:17.668494Z",
          "iopub.status.idle": "2020-09-13T15:03:17.704871Z",
          "shell.execute_reply": "2020-09-13T15:03:17.705471Z"
        },
        "papermill": {
          "duration": 0.096733,
          "end_time": "2020-09-13T15:03:17.705656",
          "exception": false,
          "start_time": "2020-09-13T15:03:17.608923",
          "status": "completed"
        },
        "tags": [],
        "id": "oMIEz8I-MuWe"
      },
      "source": [
        "dt['default'] = dt['default'].map({'yes': 1, 'no': 0})\n",
        "dt['housing'] = dt['housing'].map({'yes': 1, 'no': 0})\n",
        "dt['loan'] = dt['loan'].map({'yes': 1, 'no': 0})\n",
        "dt['Target'] = dt['Target'].map({'yes': 1, 'no': 0})"
      ],
      "execution_count": null,
      "outputs": []
    },
    {
      "cell_type": "markdown",
      "metadata": {
        "papermill": {
          "duration": 0.043892,
          "end_time": "2020-09-13T15:03:17.793705",
          "exception": false,
          "start_time": "2020-09-13T15:03:17.749813",
          "status": "completed"
        },
        "tags": [],
        "id": "1L6ns_U9MuWm"
      },
      "source": [
        "# Removing the irrelevant variables"
      ]
    },
    {
      "cell_type": "code",
      "metadata": {
        "execution": {
          "iopub.execute_input": "2020-09-13T15:03:17.887309Z",
          "iopub.status.busy": "2020-09-13T15:03:17.886356Z",
          "iopub.status.idle": "2020-09-13T15:03:17.901405Z",
          "shell.execute_reply": "2020-09-13T15:03:17.901981Z"
        },
        "papermill": {
          "duration": 0.063394,
          "end_time": "2020-09-13T15:03:17.902158",
          "exception": false,
          "start_time": "2020-09-13T15:03:17.838764",
          "status": "completed"
        },
        "tags": [],
        "id": "iexJn1HWMuWo"
      },
      "source": [
        "dt.drop(['day','month','marital'],1,inplace=True)"
      ],
      "execution_count": null,
      "outputs": []
    },
    {
      "cell_type": "code",
      "metadata": {
        "execution": {
          "iopub.execute_input": "2020-09-13T15:03:17.996596Z",
          "iopub.status.busy": "2020-09-13T15:03:17.995936Z",
          "iopub.status.idle": "2020-09-13T15:03:18.002042Z",
          "shell.execute_reply": "2020-09-13T15:03:18.001366Z"
        },
        "papermill": {
          "duration": 0.055506,
          "end_time": "2020-09-13T15:03:18.002168",
          "exception": false,
          "start_time": "2020-09-13T15:03:17.946662",
          "status": "completed"
        },
        "tags": [],
        "id": "ZyAeLnpDMuWw",
        "outputId": "c3929feb-c024-49f0-825c-691b7152856c"
      },
      "source": [
        "dt.shape"
      ],
      "execution_count": null,
      "outputs": [
        {
          "output_type": "execute_result",
          "data": {
            "text/plain": [
              "(45211, 14)"
            ]
          },
          "metadata": {
            "tags": []
          },
          "execution_count": 11
        }
      ]
    },
    {
      "cell_type": "markdown",
      "metadata": {
        "papermill": {
          "duration": 0.045095,
          "end_time": "2020-09-13T15:03:18.092254",
          "exception": false,
          "start_time": "2020-09-13T15:03:18.047159",
          "status": "completed"
        },
        "tags": [],
        "id": "oe4pba4tMuW6"
      },
      "source": [
        "# Creating dummy variables and simultaneously removing one variable to avoid dummy variable trap"
      ]
    },
    {
      "cell_type": "code",
      "metadata": {
        "execution": {
          "iopub.execute_input": "2020-09-13T15:03:18.194574Z",
          "iopub.status.busy": "2020-09-13T15:03:18.192411Z",
          "iopub.status.idle": "2020-09-13T15:03:18.250924Z",
          "shell.execute_reply": "2020-09-13T15:03:18.250293Z"
        },
        "papermill": {
          "duration": 0.113816,
          "end_time": "2020-09-13T15:03:18.251061",
          "exception": false,
          "start_time": "2020-09-13T15:03:18.137245",
          "status": "completed"
        },
        "tags": [],
        "id": "yCToykAPMuW8"
      },
      "source": [
        "job = pd.get_dummies(dt['job'],prefix='job',drop_first=True)\n",
        "dt = pd.concat([dt,job],axis=1)\n",
        "\n",
        "edu = pd.get_dummies(dt['education'],prefix='education',drop_first=True)\n",
        "dt = pd.concat([dt,edu],axis=1)\n",
        "\n",
        "cont = pd.get_dummies(dt['contact'],prefix='contact',drop_first=True)\n",
        "dt = pd.concat([dt,cont],axis=1)\n",
        "\n",
        "pout = pd.get_dummies(dt['poutcome'],prefix='poutcome',drop_first=True)\n",
        "dt = pd.concat([dt,pout],axis=1)"
      ],
      "execution_count": null,
      "outputs": []
    },
    {
      "cell_type": "code",
      "metadata": {
        "execution": {
          "iopub.execute_input": "2020-09-13T15:03:18.347196Z",
          "iopub.status.busy": "2020-09-13T15:03:18.346399Z",
          "iopub.status.idle": "2020-09-13T15:03:18.357077Z",
          "shell.execute_reply": "2020-09-13T15:03:18.356474Z"
        },
        "papermill": {
          "duration": 0.060853,
          "end_time": "2020-09-13T15:03:18.357194",
          "exception": false,
          "start_time": "2020-09-13T15:03:18.296341",
          "status": "completed"
        },
        "tags": [],
        "id": "c_A0E6JnMuXD"
      },
      "source": [
        "dt.drop(['job','education','contact','poutcome'], 1,inplace=True)"
      ],
      "execution_count": null,
      "outputs": []
    },
    {
      "cell_type": "code",
      "metadata": {
        "execution": {
          "iopub.execute_input": "2020-09-13T15:03:18.454259Z",
          "iopub.status.busy": "2020-09-13T15:03:18.453309Z",
          "iopub.status.idle": "2020-09-13T15:03:18.472517Z",
          "shell.execute_reply": "2020-09-13T15:03:18.471698Z"
        },
        "papermill": {
          "duration": 0.0693,
          "end_time": "2020-09-13T15:03:18.472693",
          "exception": false,
          "start_time": "2020-09-13T15:03:18.403393",
          "status": "completed"
        },
        "tags": [],
        "id": "xNLaMcGqMuXL",
        "outputId": "74181489-243c-4407-b52f-e8e46a8b3208"
      },
      "source": [
        "dt.info()"
      ],
      "execution_count": null,
      "outputs": [
        {
          "output_type": "stream",
          "text": [
            "<class 'pandas.core.frame.DataFrame'>\n",
            "RangeIndex: 45211 entries, 0 to 45210\n",
            "Data columns (total 29 columns):\n",
            " #   Column               Non-Null Count  Dtype\n",
            "---  ------               --------------  -----\n",
            " 0   age                  45211 non-null  int64\n",
            " 1   default              45211 non-null  int64\n",
            " 2   balance              45211 non-null  int64\n",
            " 3   housing              45211 non-null  int64\n",
            " 4   loan                 45211 non-null  int64\n",
            " 5   duration             45211 non-null  int64\n",
            " 6   campaign             45211 non-null  int64\n",
            " 7   pdays                45211 non-null  int64\n",
            " 8   previous             45211 non-null  int64\n",
            " 9   Target               45211 non-null  int64\n",
            " 10  job_blue-collar      45211 non-null  uint8\n",
            " 11  job_entrepreneur     45211 non-null  uint8\n",
            " 12  job_housemaid        45211 non-null  uint8\n",
            " 13  job_management       45211 non-null  uint8\n",
            " 14  job_retired          45211 non-null  uint8\n",
            " 15  job_self-employed    45211 non-null  uint8\n",
            " 16  job_services         45211 non-null  uint8\n",
            " 17  job_student          45211 non-null  uint8\n",
            " 18  job_technician       45211 non-null  uint8\n",
            " 19  job_unemployed       45211 non-null  uint8\n",
            " 20  job_unknown          45211 non-null  uint8\n",
            " 21  education_secondary  45211 non-null  uint8\n",
            " 22  education_tertiary   45211 non-null  uint8\n",
            " 23  education_unknown    45211 non-null  uint8\n",
            " 24  contact_telephone    45211 non-null  uint8\n",
            " 25  contact_unknown      45211 non-null  uint8\n",
            " 26  poutcome_other       45211 non-null  uint8\n",
            " 27  poutcome_success     45211 non-null  uint8\n",
            " 28  poutcome_unknown     45211 non-null  uint8\n",
            "dtypes: int64(10), uint8(19)\n",
            "memory usage: 4.3 MB\n"
          ],
          "name": "stdout"
        }
      ]
    },
    {
      "cell_type": "code",
      "metadata": {
        "execution": {
          "iopub.execute_input": "2020-09-13T15:03:18.584332Z",
          "iopub.status.busy": "2020-09-13T15:03:18.583364Z",
          "iopub.status.idle": "2020-09-13T15:03:18.588188Z",
          "shell.execute_reply": "2020-09-13T15:03:18.587506Z"
        },
        "papermill": {
          "duration": 0.068985,
          "end_time": "2020-09-13T15:03:18.588333",
          "exception": false,
          "start_time": "2020-09-13T15:03:18.519348",
          "status": "completed"
        },
        "tags": [],
        "id": "tVa8uM9iMuXU",
        "outputId": "589888de-5e27-4bfa-a3a0-117d39359892"
      },
      "source": [
        "dt.head()"
      ],
      "execution_count": null,
      "outputs": [
        {
          "output_type": "execute_result",
          "data": {
            "text/html": [
              "<div>\n",
              "<style scoped>\n",
              "    .dataframe tbody tr th:only-of-type {\n",
              "        vertical-align: middle;\n",
              "    }\n",
              "\n",
              "    .dataframe tbody tr th {\n",
              "        vertical-align: top;\n",
              "    }\n",
              "\n",
              "    .dataframe thead th {\n",
              "        text-align: right;\n",
              "    }\n",
              "</style>\n",
              "<table border=\"1\" class=\"dataframe\">\n",
              "  <thead>\n",
              "    <tr style=\"text-align: right;\">\n",
              "      <th></th>\n",
              "      <th>age</th>\n",
              "      <th>default</th>\n",
              "      <th>balance</th>\n",
              "      <th>housing</th>\n",
              "      <th>loan</th>\n",
              "      <th>duration</th>\n",
              "      <th>campaign</th>\n",
              "      <th>pdays</th>\n",
              "      <th>previous</th>\n",
              "      <th>Target</th>\n",
              "      <th>...</th>\n",
              "      <th>job_unemployed</th>\n",
              "      <th>job_unknown</th>\n",
              "      <th>education_secondary</th>\n",
              "      <th>education_tertiary</th>\n",
              "      <th>education_unknown</th>\n",
              "      <th>contact_telephone</th>\n",
              "      <th>contact_unknown</th>\n",
              "      <th>poutcome_other</th>\n",
              "      <th>poutcome_success</th>\n",
              "      <th>poutcome_unknown</th>\n",
              "    </tr>\n",
              "  </thead>\n",
              "  <tbody>\n",
              "    <tr>\n",
              "      <th>0</th>\n",
              "      <td>58</td>\n",
              "      <td>0</td>\n",
              "      <td>2143</td>\n",
              "      <td>1</td>\n",
              "      <td>0</td>\n",
              "      <td>261</td>\n",
              "      <td>1</td>\n",
              "      <td>-1</td>\n",
              "      <td>0</td>\n",
              "      <td>0</td>\n",
              "      <td>...</td>\n",
              "      <td>0</td>\n",
              "      <td>0</td>\n",
              "      <td>0</td>\n",
              "      <td>1</td>\n",
              "      <td>0</td>\n",
              "      <td>0</td>\n",
              "      <td>1</td>\n",
              "      <td>0</td>\n",
              "      <td>0</td>\n",
              "      <td>1</td>\n",
              "    </tr>\n",
              "    <tr>\n",
              "      <th>1</th>\n",
              "      <td>44</td>\n",
              "      <td>0</td>\n",
              "      <td>29</td>\n",
              "      <td>1</td>\n",
              "      <td>0</td>\n",
              "      <td>151</td>\n",
              "      <td>1</td>\n",
              "      <td>-1</td>\n",
              "      <td>0</td>\n",
              "      <td>0</td>\n",
              "      <td>...</td>\n",
              "      <td>0</td>\n",
              "      <td>0</td>\n",
              "      <td>1</td>\n",
              "      <td>0</td>\n",
              "      <td>0</td>\n",
              "      <td>0</td>\n",
              "      <td>1</td>\n",
              "      <td>0</td>\n",
              "      <td>0</td>\n",
              "      <td>1</td>\n",
              "    </tr>\n",
              "    <tr>\n",
              "      <th>2</th>\n",
              "      <td>33</td>\n",
              "      <td>0</td>\n",
              "      <td>2</td>\n",
              "      <td>1</td>\n",
              "      <td>1</td>\n",
              "      <td>76</td>\n",
              "      <td>1</td>\n",
              "      <td>-1</td>\n",
              "      <td>0</td>\n",
              "      <td>0</td>\n",
              "      <td>...</td>\n",
              "      <td>0</td>\n",
              "      <td>0</td>\n",
              "      <td>1</td>\n",
              "      <td>0</td>\n",
              "      <td>0</td>\n",
              "      <td>0</td>\n",
              "      <td>1</td>\n",
              "      <td>0</td>\n",
              "      <td>0</td>\n",
              "      <td>1</td>\n",
              "    </tr>\n",
              "    <tr>\n",
              "      <th>3</th>\n",
              "      <td>47</td>\n",
              "      <td>0</td>\n",
              "      <td>1506</td>\n",
              "      <td>1</td>\n",
              "      <td>0</td>\n",
              "      <td>92</td>\n",
              "      <td>1</td>\n",
              "      <td>-1</td>\n",
              "      <td>0</td>\n",
              "      <td>0</td>\n",
              "      <td>...</td>\n",
              "      <td>0</td>\n",
              "      <td>0</td>\n",
              "      <td>0</td>\n",
              "      <td>0</td>\n",
              "      <td>1</td>\n",
              "      <td>0</td>\n",
              "      <td>1</td>\n",
              "      <td>0</td>\n",
              "      <td>0</td>\n",
              "      <td>1</td>\n",
              "    </tr>\n",
              "    <tr>\n",
              "      <th>4</th>\n",
              "      <td>33</td>\n",
              "      <td>0</td>\n",
              "      <td>1</td>\n",
              "      <td>0</td>\n",
              "      <td>0</td>\n",
              "      <td>198</td>\n",
              "      <td>1</td>\n",
              "      <td>-1</td>\n",
              "      <td>0</td>\n",
              "      <td>0</td>\n",
              "      <td>...</td>\n",
              "      <td>0</td>\n",
              "      <td>1</td>\n",
              "      <td>0</td>\n",
              "      <td>0</td>\n",
              "      <td>1</td>\n",
              "      <td>0</td>\n",
              "      <td>1</td>\n",
              "      <td>0</td>\n",
              "      <td>0</td>\n",
              "      <td>1</td>\n",
              "    </tr>\n",
              "  </tbody>\n",
              "</table>\n",
              "<p>5 rows × 29 columns</p>\n",
              "</div>"
            ],
            "text/plain": [
              "   age  default  balance  housing  loan  duration  campaign  pdays  previous  \\\n",
              "0   58        0     2143        1     0       261         1     -1         0   \n",
              "1   44        0       29        1     0       151         1     -1         0   \n",
              "2   33        0        2        1     1        76         1     -1         0   \n",
              "3   47        0     1506        1     0        92         1     -1         0   \n",
              "4   33        0        1        0     0       198         1     -1         0   \n",
              "\n",
              "   Target  ...  job_unemployed  job_unknown  education_secondary  \\\n",
              "0       0  ...               0            0                    0   \n",
              "1       0  ...               0            0                    1   \n",
              "2       0  ...               0            0                    1   \n",
              "3       0  ...               0            0                    0   \n",
              "4       0  ...               0            1                    0   \n",
              "\n",
              "   education_tertiary  education_unknown  contact_telephone  contact_unknown  \\\n",
              "0                   1                  0                  0                1   \n",
              "1                   0                  0                  0                1   \n",
              "2                   0                  0                  0                1   \n",
              "3                   0                  1                  0                1   \n",
              "4                   0                  1                  0                1   \n",
              "\n",
              "   poutcome_other  poutcome_success  poutcome_unknown  \n",
              "0               0                 0                 1  \n",
              "1               0                 0                 1  \n",
              "2               0                 0                 1  \n",
              "3               0                 0                 1  \n",
              "4               0                 0                 1  \n",
              "\n",
              "[5 rows x 29 columns]"
            ]
          },
          "metadata": {
            "tags": []
          },
          "execution_count": 15
        }
      ]
    },
    {
      "cell_type": "markdown",
      "metadata": {
        "papermill": {
          "duration": 0.046142,
          "end_time": "2020-09-13T15:03:18.680604",
          "exception": false,
          "start_time": "2020-09-13T15:03:18.634462",
          "status": "completed"
        },
        "tags": [],
        "id": "ZzfFBsqFMuXb"
      },
      "source": [
        "# Detection of Outliers using BoxPlot"
      ]
    },
    {
      "cell_type": "code",
      "metadata": {
        "execution": {
          "iopub.execute_input": "2020-09-13T15:03:18.786405Z",
          "iopub.status.busy": "2020-09-13T15:03:18.782837Z",
          "iopub.status.idle": "2020-09-13T15:03:18.903742Z",
          "shell.execute_reply": "2020-09-13T15:03:18.904271Z"
        },
        "papermill": {
          "duration": 0.177408,
          "end_time": "2020-09-13T15:03:18.904416",
          "exception": false,
          "start_time": "2020-09-13T15:03:18.727008",
          "status": "completed"
        },
        "tags": [],
        "id": "A7-3bK2xMuXc",
        "outputId": "4c3ac4bc-ad4b-4418-a4db-deb8ca3749ae"
      },
      "source": [
        "sns.boxplot(x=dt['age'])"
      ],
      "execution_count": null,
      "outputs": [
        {
          "output_type": "execute_result",
          "data": {
            "text/plain": [
              "<matplotlib.axes._subplots.AxesSubplot at 0x7f4462921710>"
            ]
          },
          "metadata": {
            "tags": []
          },
          "execution_count": 16
        },
        {
          "output_type": "display_data",
          "data": {
            "image/png": "[encoded data removed]",
            "text/plain": [
              "<Figure size 432x288 with 1 Axes>"
            ]
          },
          "metadata": {
            "tags": [],
            "needs_background": "light"
          }
        }
      ]
    },
    {
      "cell_type": "code",
      "metadata": {
        "execution": {
          "iopub.execute_input": "2020-09-13T15:03:19.013366Z",
          "iopub.status.busy": "2020-09-13T15:03:19.012181Z",
          "iopub.status.idle": "2020-09-13T15:03:19.130680Z",
          "shell.execute_reply": "2020-09-13T15:03:19.130116Z"
        },
        "papermill": {
          "duration": 0.178963,
          "end_time": "2020-09-13T15:03:19.130795",
          "exception": false,
          "start_time": "2020-09-13T15:03:18.951832",
          "status": "completed"
        },
        "tags": [],
        "id": "-__ESoP_MuXj",
        "outputId": "e0d4cbf1-520f-4760-9f94-71f8af5c6a83"
      },
      "source": [
        "sns.boxplot(x=dt['balance'])"
      ],
      "execution_count": null,
      "outputs": [
        {
          "output_type": "execute_result",
          "data": {
            "text/plain": [
              "<matplotlib.axes._subplots.AxesSubplot at 0x7f4462354110>"
            ]
          },
          "metadata": {
            "tags": []
          },
          "execution_count": 17
        },
        {
          "output_type": "display_data",
          "data": {
            "image/png": "[encoded data removed]",
            "text/plain": [
              "<Figure size 432x288 with 1 Axes>"
            ]
          },
          "metadata": {
            "tags": [],
            "needs_background": "light"
          }
        }
      ]
    },
    {
      "cell_type": "code",
      "metadata": {
        "execution": {
          "iopub.execute_input": "2020-09-13T15:03:19.242015Z",
          "iopub.status.busy": "2020-09-13T15:03:19.240855Z",
          "iopub.status.idle": "2020-09-13T15:03:19.351394Z",
          "shell.execute_reply": "2020-09-13T15:03:19.350842Z"
        },
        "papermill": {
          "duration": 0.171257,
          "end_time": "2020-09-13T15:03:19.351503",
          "exception": false,
          "start_time": "2020-09-13T15:03:19.180246",
          "status": "completed"
        },
        "tags": [],
        "id": "ZuN6E5PTMuXq",
        "outputId": "8791250f-c78f-4ec6-9b0c-da455bbd879c"
      },
      "source": [
        "sns.boxplot(x=dt['duration'])"
      ],
      "execution_count": null,
      "outputs": [
        {
          "output_type": "execute_result",
          "data": {
            "text/plain": [
              "<matplotlib.axes._subplots.AxesSubplot at 0x7f44622d27d0>"
            ]
          },
          "metadata": {
            "tags": []
          },
          "execution_count": 18
        },
        {
          "output_type": "display_data",
          "data": {
            "image/png": "[encoded data removed]",
            "text/plain": [
              "<Figure size 432x288 with 1 Axes>"
            ]
          },
          "metadata": {
            "tags": [],
            "needs_background": "light"
          }
        }
      ]
    },
    {
      "cell_type": "code",
      "metadata": {
        "execution": {
          "iopub.execute_input": "2020-09-13T15:03:19.466683Z",
          "iopub.status.busy": "2020-09-13T15:03:19.464299Z",
          "iopub.status.idle": "2020-09-13T15:03:19.579400Z",
          "shell.execute_reply": "2020-09-13T15:03:19.578746Z"
        },
        "papermill": {
          "duration": 0.176759,
          "end_time": "2020-09-13T15:03:19.579514",
          "exception": false,
          "start_time": "2020-09-13T15:03:19.402755",
          "status": "completed"
        },
        "tags": [],
        "id": "EoXnhFFQMuXv",
        "outputId": "9e450399-24b4-4b35-e192-7a8543897771"
      },
      "source": [
        "sns.boxplot(x=dt['campaign'])"
      ],
      "execution_count": null,
      "outputs": [
        {
          "output_type": "execute_result",
          "data": {
            "text/plain": [
              "<matplotlib.axes._subplots.AxesSubplot at 0x7f446223f1d0>"
            ]
          },
          "metadata": {
            "tags": []
          },
          "execution_count": 19
        },
        {
          "output_type": "display_data",
          "data": {
            "image/png": "[encoded data removed]",
            "text/plain": [
              "<Figure size 432x288 with 1 Axes>"
            ]
          },
          "metadata": {
            "tags": [],
            "needs_background": "light"
          }
        }
      ]
    },
    {
      "cell_type": "code",
      "metadata": {
        "execution": {
          "iopub.execute_input": "2020-09-13T15:03:19.705280Z",
          "iopub.status.busy": "2020-09-13T15:03:19.696354Z",
          "iopub.status.idle": "2020-09-13T15:03:19.813342Z",
          "shell.execute_reply": "2020-09-13T15:03:19.812672Z"
        },
        "papermill": {
          "duration": 0.182329,
          "end_time": "2020-09-13T15:03:19.813457",
          "exception": false,
          "start_time": "2020-09-13T15:03:19.631128",
          "status": "completed"
        },
        "tags": [],
        "id": "elvYiJjvMuX4",
        "outputId": "7caff104-e78b-44bd-849b-0b63ef9cbd2b"
      },
      "source": [
        "sns.boxplot(x=dt['pdays'])"
      ],
      "execution_count": null,
      "outputs": [
        {
          "output_type": "execute_result",
          "data": {
            "text/plain": [
              "<matplotlib.axes._subplots.AxesSubplot at 0x7f44622157d0>"
            ]
          },
          "metadata": {
            "tags": []
          },
          "execution_count": 20
        },
        {
          "output_type": "display_data",
          "data": {
            "image/png": "[encoded data removed]",
            "text/plain": [
              "<Figure size 432x288 with 1 Axes>"
            ]
          },
          "metadata": {
            "tags": [],
            "needs_background": "light"
          }
        }
      ]
    },
    {
      "cell_type": "code",
      "metadata": {
        "execution": {
          "iopub.execute_input": "2020-09-13T15:03:19.933852Z",
          "iopub.status.busy": "2020-09-13T15:03:19.928069Z",
          "iopub.status.idle": "2020-09-13T15:03:20.054495Z",
          "shell.execute_reply": "2020-09-13T15:03:20.053830Z"
        },
        "papermill": {
          "duration": 0.188794,
          "end_time": "2020-09-13T15:03:20.054648",
          "exception": false,
          "start_time": "2020-09-13T15:03:19.865854",
          "status": "completed"
        },
        "tags": [],
        "id": "wrC6GtvTMuX-",
        "outputId": "17d5f7ff-9389-49d5-a93f-684e6c9fe7b3"
      },
      "source": [
        "sns.boxplot(x=dt['previous'])"
      ],
      "execution_count": null,
      "outputs": [
        {
          "output_type": "execute_result",
          "data": {
            "text/plain": [
              "<matplotlib.axes._subplots.AxesSubplot at 0x7f4462191290>"
            ]
          },
          "metadata": {
            "tags": []
          },
          "execution_count": 21
        },
        {
          "output_type": "display_data",
          "data": {
            "image/png": "[encoded data removed]",
            "text/plain": [
              "<Figure size 432x288 with 1 Axes>"
            ]
          },
          "metadata": {
            "tags": [],
            "needs_background": "light"
          }
        }
      ]
    },
    {
      "cell_type": "markdown",
      "metadata": {
        "papermill": {
          "duration": 0.053266,
          "end_time": "2020-09-13T15:03:20.163224",
          "exception": false,
          "start_time": "2020-09-13T15:03:20.109958",
          "status": "completed"
        },
        "tags": [],
        "id": "bjjdCxskMuYF"
      },
      "source": [
        "# Z-score\n",
        "*Z-score is finding the distribution of data where mean is 0 and standard deviation is 1 i.e. normal distribution. While calculating the Z-score we re-scale the data and look for data points which are too far from zero. These data points which are way too far from zero will be treated as the outliers. In most of the cases, if the Z-score value is greater than or less than 3 or -3 respectively, that data point will be identified as outliers.*"
      ]
    },
    {
      "cell_type": "code",
      "metadata": {
        "execution": {
          "iopub.execute_input": "2020-09-13T15:03:20.278035Z",
          "iopub.status.busy": "2020-09-13T15:03:20.277321Z",
          "iopub.status.idle": "2020-09-13T15:03:20.287467Z",
          "shell.execute_reply": "2020-09-13T15:03:20.288310Z"
        },
        "papermill": {
          "duration": 0.071625,
          "end_time": "2020-09-13T15:03:20.288499",
          "exception": false,
          "start_time": "2020-09-13T15:03:20.216874",
          "status": "completed"
        },
        "tags": [],
        "id": "Ejv10UivMuYH",
        "outputId": "729a1e1b-e390-4b00-a0ef-30f991880181"
      },
      "source": [
        "from scipy import stats\n",
        "z = np.abs(stats.zscore(dt[['age','balance','duration','campaign','pdays','previous']]))\n",
        "print(z)"
      ],
      "execution_count": null,
      "outputs": [
        {
          "output_type": "stream",
          "text": [
            "[[1.60696496 0.25641925 0.0110161  0.56935064 0.41145311 0.25194037]\n",
            " [0.28852927 0.43789469 0.41612696 0.56935064 0.41145311 0.25194037]\n",
            " [0.74738448 0.44676247 0.70736086 0.56935064 0.41145311 0.25194037]\n",
            " ...\n",
            " [2.92540065 1.42959305 3.37379688 0.72181052 1.43618859 1.05047333]\n",
            " [1.51279098 0.22802402 0.97014641 0.39902023 0.41145311 0.25194037]\n",
            " [0.37068857 0.52836436 0.39932797 0.24656035 1.4761376  4.52357654]]\n"
          ],
          "name": "stdout"
        }
      ]
    },
    {
      "cell_type": "code",
      "metadata": {
        "execution": {
          "iopub.execute_input": "2020-09-13T15:03:20.402689Z",
          "iopub.status.busy": "2020-09-13T15:03:20.401943Z",
          "iopub.status.idle": "2020-09-13T15:03:20.407287Z",
          "shell.execute_reply": "2020-09-13T15:03:20.407760Z"
        },
        "papermill": {
          "duration": 0.064472,
          "end_time": "2020-09-13T15:03:20.407907",
          "exception": false,
          "start_time": "2020-09-13T15:03:20.343435",
          "status": "completed"
        },
        "tags": [],
        "id": "g0LyBPPcMuYO",
        "outputId": "ac8df35a-86ed-4511-ba6d-90b6e87b7abd"
      },
      "source": [
        "threshold = 3\n",
        "print(np.where(z > 3))"
      ],
      "execution_count": null,
      "outputs": [
        {
          "output_type": "stream",
          "text": [
            "(array([   34,    37,    43, ..., 45204, 45208, 45210]), array([1, 2, 2, ..., 5, 2, 5]))\n"
          ],
          "name": "stdout"
        }
      ]
    },
    {
      "cell_type": "markdown",
      "metadata": {
        "papermill": {
          "duration": 0.05416,
          "end_time": "2020-09-13T15:03:20.516257",
          "exception": false,
          "start_time": "2020-09-13T15:03:20.462097",
          "status": "completed"
        },
        "tags": [],
        "id": "n6RC9Re1MuYV"
      },
      "source": [
        "*Rows and Columns before removing the outliers*"
      ]
    },
    {
      "cell_type": "code",
      "metadata": {
        "execution": {
          "iopub.execute_input": "2020-09-13T15:03:20.631085Z",
          "iopub.status.busy": "2020-09-13T15:03:20.630002Z",
          "iopub.status.idle": "2020-09-13T15:03:20.634422Z",
          "shell.execute_reply": "2020-09-13T15:03:20.633653Z"
        },
        "papermill": {
          "duration": 0.064067,
          "end_time": "2020-09-13T15:03:20.634545",
          "exception": false,
          "start_time": "2020-09-13T15:03:20.570478",
          "status": "completed"
        },
        "tags": [],
        "id": "0FMDDwrAMuYW",
        "outputId": "c7d10c5e-4c66-4dc4-dd3e-fb20bce4b9d6"
      },
      "source": [
        "dt.shape"
      ],
      "execution_count": null,
      "outputs": [
        {
          "output_type": "execute_result",
          "data": {
            "text/plain": [
              "(45211, 29)"
            ]
          },
          "metadata": {
            "tags": []
          },
          "execution_count": 24
        }
      ]
    },
    {
      "cell_type": "code",
      "metadata": {
        "execution": {
          "iopub.execute_input": "2020-09-13T15:03:20.750600Z",
          "iopub.status.busy": "2020-09-13T15:03:20.749382Z",
          "iopub.status.idle": "2020-09-13T15:03:20.756769Z",
          "shell.execute_reply": "2020-09-13T15:03:20.757321Z"
        },
        "papermill": {
          "duration": 0.068324,
          "end_time": "2020-09-13T15:03:20.757470",
          "exception": false,
          "start_time": "2020-09-13T15:03:20.689146",
          "status": "completed"
        },
        "tags": [],
        "id": "IyVBzK85MuYd"
      },
      "source": [
        "df = dt[(z < 3).all(axis=1)]"
      ],
      "execution_count": null,
      "outputs": []
    },
    {
      "cell_type": "markdown",
      "metadata": {
        "papermill": {
          "duration": 0.054251,
          "end_time": "2020-09-13T15:03:20.866980",
          "exception": false,
          "start_time": "2020-09-13T15:03:20.812729",
          "status": "completed"
        },
        "tags": [],
        "id": "-MiDnCfPMuYh"
      },
      "source": [
        "*Rows and columns after removing the outliers*"
      ]
    },
    {
      "cell_type": "code",
      "metadata": {
        "execution": {
          "iopub.execute_input": "2020-09-13T15:03:20.983627Z",
          "iopub.status.busy": "2020-09-13T15:03:20.982604Z",
          "iopub.status.idle": "2020-09-13T15:03:20.988321Z",
          "shell.execute_reply": "2020-09-13T15:03:20.988984Z"
        },
        "papermill": {
          "duration": 0.067103,
          "end_time": "2020-09-13T15:03:20.989130",
          "exception": false,
          "start_time": "2020-09-13T15:03:20.922027",
          "status": "completed"
        },
        "tags": [],
        "id": "8fyG77qbMuYi",
        "outputId": "758a1841-5451-4816-8706-5da6d0c35182"
      },
      "source": [
        "df.shape"
      ],
      "execution_count": null,
      "outputs": [
        {
          "output_type": "execute_result",
          "data": {
            "text/plain": [
              "(40209, 29)"
            ]
          },
          "metadata": {
            "tags": []
          },
          "execution_count": 26
        }
      ]
    },
    {
      "cell_type": "code",
      "metadata": {
        "execution": {
          "iopub.execute_input": "2020-09-13T15:03:21.105304Z",
          "iopub.status.busy": "2020-09-13T15:03:21.104283Z",
          "iopub.status.idle": "2020-09-13T15:03:21.219998Z",
          "shell.execute_reply": "2020-09-13T15:03:21.219377Z"
        },
        "papermill": {
          "duration": 0.1751,
          "end_time": "2020-09-13T15:03:21.220115",
          "exception": false,
          "start_time": "2020-09-13T15:03:21.045015",
          "status": "completed"
        },
        "tags": [],
        "id": "ZNBBQ1HWMuYo",
        "outputId": "bd2164ca-9ebe-4a27-c853-e94b891656fc"
      },
      "source": [
        "sns.boxplot(df['age'])"
      ],
      "execution_count": null,
      "outputs": [
        {
          "output_type": "execute_result",
          "data": {
            "text/plain": [
              "<matplotlib.axes._subplots.AxesSubplot at 0x7f4462180f50>"
            ]
          },
          "metadata": {
            "tags": []
          },
          "execution_count": 27
        },
        {
          "output_type": "display_data",
          "data": {
            "image/png": "[encoded data removed]",
            "text/plain": [
              "<Figure size 432x288 with 1 Axes>"
            ]
          },
          "metadata": {
            "tags": [],
            "needs_background": "light"
          }
        }
      ]
    },
    {
      "cell_type": "code",
      "metadata": {
        "execution": {
          "iopub.execute_input": "2020-09-13T15:03:21.344753Z",
          "iopub.status.busy": "2020-09-13T15:03:21.344037Z",
          "iopub.status.idle": "2020-09-13T15:03:21.451189Z",
          "shell.execute_reply": "2020-09-13T15:03:21.450505Z"
        },
        "papermill": {
          "duration": 0.174247,
          "end_time": "2020-09-13T15:03:21.451312",
          "exception": false,
          "start_time": "2020-09-13T15:03:21.277065",
          "status": "completed"
        },
        "tags": [],
        "id": "gJ56jloNMuYx",
        "outputId": "ea2992d8-74ad-41d7-ef8c-38bffa732f11"
      },
      "source": [
        "df.describe()"
      ],
      "execution_count": null,
      "outputs": [
        {
          "output_type": "execute_result",
          "data": {
            "text/html": [
              "<div>\n",
              "<style scoped>\n",
              "    .dataframe tbody tr th:only-of-type {\n",
              "        vertical-align: middle;\n",
              "    }\n",
              "\n",
              "    .dataframe tbody tr th {\n",
              "        vertical-align: top;\n",
              "    }\n",
              "\n",
              "    .dataframe thead th {\n",
              "        text-align: right;\n",
              "    }\n",
              "</style>\n",
              "<table border=\"1\" class=\"dataframe\">\n",
              "  <thead>\n",
              "    <tr style=\"text-align: right;\">\n",
              "      <th></th>\n",
              "      <th>age</th>\n",
              "      <th>default</th>\n",
              "      <th>balance</th>\n",
              "      <th>housing</th>\n",
              "      <th>loan</th>\n",
              "      <th>duration</th>\n",
              "      <th>campaign</th>\n",
              "      <th>pdays</th>\n",
              "      <th>previous</th>\n",
              "      <th>Target</th>\n",
              "      <th>...</th>\n",
              "      <th>job_unemployed</th>\n",
              "      <th>job_unknown</th>\n",
              "      <th>education_secondary</th>\n",
              "      <th>education_tertiary</th>\n",
              "      <th>education_unknown</th>\n",
              "      <th>contact_telephone</th>\n",
              "      <th>contact_unknown</th>\n",
              "      <th>poutcome_other</th>\n",
              "      <th>poutcome_success</th>\n",
              "      <th>poutcome_unknown</th>\n",
              "    </tr>\n",
              "  </thead>\n",
              "  <tbody>\n",
              "    <tr>\n",
              "      <th>count</th>\n",
              "      <td>40209.000000</td>\n",
              "      <td>40209.000000</td>\n",
              "      <td>40209.000000</td>\n",
              "      <td>40209.000000</td>\n",
              "      <td>40209.000000</td>\n",
              "      <td>40209.000000</td>\n",
              "      <td>40209.000000</td>\n",
              "      <td>40209.000000</td>\n",
              "      <td>40209.000000</td>\n",
              "      <td>40209.000000</td>\n",
              "      <td>...</td>\n",
              "      <td>40209.000000</td>\n",
              "      <td>40209.000000</td>\n",
              "      <td>40209.000000</td>\n",
              "      <td>40209.000000</td>\n",
              "      <td>40209.000000</td>\n",
              "      <td>40209.000000</td>\n",
              "      <td>40209.000000</td>\n",
              "      <td>40209.000000</td>\n",
              "      <td>40209.000000</td>\n",
              "      <td>40209.000000</td>\n",
              "    </tr>\n",
              "    <tr>\n",
              "      <th>mean</th>\n",
              "      <td>40.659728</td>\n",
              "      <td>0.018727</td>\n",
              "      <td>1083.466189</td>\n",
              "      <td>0.551195</td>\n",
              "      <td>0.164739</td>\n",
              "      <td>235.794723</td>\n",
              "      <td>2.464324</td>\n",
              "      <td>25.184312</td>\n",
              "      <td>0.352632</td>\n",
              "      <td>0.100823</td>\n",
              "      <td>...</td>\n",
              "      <td>0.029521</td>\n",
              "      <td>0.006416</td>\n",
              "      <td>0.515830</td>\n",
              "      <td>0.293541</td>\n",
              "      <td>0.040488</td>\n",
              "      <td>0.057997</td>\n",
              "      <td>0.305106</td>\n",
              "      <td>0.028874</td>\n",
              "      <td>0.029471</td>\n",
              "      <td>0.858539</td>\n",
              "    </tr>\n",
              "    <tr>\n",
              "      <th>std</th>\n",
              "      <td>10.086648</td>\n",
              "      <td>0.135561</td>\n",
              "      <td>1722.823814</td>\n",
              "      <td>0.497378</td>\n",
              "      <td>0.370950</td>\n",
              "      <td>190.408412</td>\n",
              "      <td>1.951391</td>\n",
              "      <td>71.762763</td>\n",
              "      <td>1.056890</td>\n",
              "      <td>0.301098</td>\n",
              "      <td>...</td>\n",
              "      <td>0.169263</td>\n",
              "      <td>0.079846</td>\n",
              "      <td>0.499756</td>\n",
              "      <td>0.455390</td>\n",
              "      <td>0.197104</td>\n",
              "      <td>0.233741</td>\n",
              "      <td>0.460458</td>\n",
              "      <td>0.167455</td>\n",
              "      <td>0.169125</td>\n",
              "      <td>0.348501</td>\n",
              "    </tr>\n",
              "    <tr>\n",
              "      <th>min</th>\n",
              "      <td>18.000000</td>\n",
              "      <td>0.000000</td>\n",
              "      <td>-6847.000000</td>\n",
              "      <td>0.000000</td>\n",
              "      <td>0.000000</td>\n",
              "      <td>0.000000</td>\n",
              "      <td>1.000000</td>\n",
              "      <td>-1.000000</td>\n",
              "      <td>0.000000</td>\n",
              "      <td>0.000000</td>\n",
              "      <td>...</td>\n",
              "      <td>0.000000</td>\n",
              "      <td>0.000000</td>\n",
              "      <td>0.000000</td>\n",
              "      <td>0.000000</td>\n",
              "      <td>0.000000</td>\n",
              "      <td>0.000000</td>\n",
              "      <td>0.000000</td>\n",
              "      <td>0.000000</td>\n",
              "      <td>0.000000</td>\n",
              "      <td>0.000000</td>\n",
              "    </tr>\n",
              "    <tr>\n",
              "      <th>25%</th>\n",
              "      <td>33.000000</td>\n",
              "      <td>0.000000</td>\n",
              "      <td>66.000000</td>\n",
              "      <td>0.000000</td>\n",
              "      <td>0.000000</td>\n",
              "      <td>104.000000</td>\n",
              "      <td>1.000000</td>\n",
              "      <td>-1.000000</td>\n",
              "      <td>0.000000</td>\n",
              "      <td>0.000000</td>\n",
              "      <td>...</td>\n",
              "      <td>0.000000</td>\n",
              "      <td>0.000000</td>\n",
              "      <td>0.000000</td>\n",
              "      <td>0.000000</td>\n",
              "      <td>0.000000</td>\n",
              "      <td>0.000000</td>\n",
              "      <td>0.000000</td>\n",
              "      <td>0.000000</td>\n",
              "      <td>0.000000</td>\n",
              "      <td>1.000000</td>\n",
              "    </tr>\n",
              "    <tr>\n",
              "      <th>50%</th>\n",
              "      <td>39.000000</td>\n",
              "      <td>0.000000</td>\n",
              "      <td>430.000000</td>\n",
              "      <td>1.000000</td>\n",
              "      <td>0.000000</td>\n",
              "      <td>178.000000</td>\n",
              "      <td>2.000000</td>\n",
              "      <td>-1.000000</td>\n",
              "      <td>0.000000</td>\n",
              "      <td>0.000000</td>\n",
              "      <td>...</td>\n",
              "      <td>0.000000</td>\n",
              "      <td>0.000000</td>\n",
              "      <td>1.000000</td>\n",
              "      <td>0.000000</td>\n",
              "      <td>0.000000</td>\n",
              "      <td>0.000000</td>\n",
              "      <td>0.000000</td>\n",
              "      <td>0.000000</td>\n",
              "      <td>0.000000</td>\n",
              "      <td>1.000000</td>\n",
              "    </tr>\n",
              "    <tr>\n",
              "      <th>75%</th>\n",
              "      <td>48.000000</td>\n",
              "      <td>0.000000</td>\n",
              "      <td>1345.000000</td>\n",
              "      <td>1.000000</td>\n",
              "      <td>0.000000</td>\n",
              "      <td>306.000000</td>\n",
              "      <td>3.000000</td>\n",
              "      <td>-1.000000</td>\n",
              "      <td>0.000000</td>\n",
              "      <td>0.000000</td>\n",
              "      <td>...</td>\n",
              "      <td>0.000000</td>\n",
              "      <td>0.000000</td>\n",
              "      <td>1.000000</td>\n",
              "      <td>1.000000</td>\n",
              "      <td>0.000000</td>\n",
              "      <td>0.000000</td>\n",
              "      <td>1.000000</td>\n",
              "      <td>0.000000</td>\n",
              "      <td>0.000000</td>\n",
              "      <td>1.000000</td>\n",
              "    </tr>\n",
              "    <tr>\n",
              "      <th>max</th>\n",
              "      <td>72.000000</td>\n",
              "      <td>1.000000</td>\n",
              "      <td>10483.000000</td>\n",
              "      <td>1.000000</td>\n",
              "      <td>1.000000</td>\n",
              "      <td>1030.000000</td>\n",
              "      <td>12.000000</td>\n",
              "      <td>340.000000</td>\n",
              "      <td>7.000000</td>\n",
              "      <td>1.000000</td>\n",
              "      <td>...</td>\n",
              "      <td>1.000000</td>\n",
              "      <td>1.000000</td>\n",
              "      <td>1.000000</td>\n",
              "      <td>1.000000</td>\n",
              "      <td>1.000000</td>\n",
              "      <td>1.000000</td>\n",
              "      <td>1.000000</td>\n",
              "      <td>1.000000</td>\n",
              "      <td>1.000000</td>\n",
              "      <td>1.000000</td>\n",
              "    </tr>\n",
              "  </tbody>\n",
              "</table>\n",
              "<p>8 rows × 29 columns</p>\n",
              "</div>"
            ],
            "text/plain": [
              "                age       default       balance       housing          loan  \\\n",
              "count  40209.000000  40209.000000  40209.000000  40209.000000  40209.000000   \n",
              "mean      40.659728      0.018727   1083.466189      0.551195      0.164739   \n",
              "std       10.086648      0.135561   1722.823814      0.497378      0.370950   \n",
              "min       18.000000      0.000000  -6847.000000      0.000000      0.000000   \n",
              "25%       33.000000      0.000000     66.000000      0.000000      0.000000   \n",
              "50%       39.000000      0.000000    430.000000      1.000000      0.000000   \n",
              "75%       48.000000      0.000000   1345.000000      1.000000      0.000000   \n",
              "max       72.000000      1.000000  10483.000000      1.000000      1.000000   \n",
              "\n",
              "           duration      campaign         pdays      previous        Target  \\\n",
              "count  40209.000000  40209.000000  40209.000000  40209.000000  40209.000000   \n",
              "mean     235.794723      2.464324     25.184312      0.352632      0.100823   \n",
              "std      190.408412      1.951391     71.762763      1.056890      0.301098   \n",
              "min        0.000000      1.000000     -1.000000      0.000000      0.000000   \n",
              "25%      104.000000      1.000000     -1.000000      0.000000      0.000000   \n",
              "50%      178.000000      2.000000     -1.000000      0.000000      0.000000   \n",
              "75%      306.000000      3.000000     -1.000000      0.000000      0.000000   \n",
              "max     1030.000000     12.000000    340.000000      7.000000      1.000000   \n",
              "\n",
              "       ...  job_unemployed   job_unknown  education_secondary  \\\n",
              "count  ...    40209.000000  40209.000000         40209.000000   \n",
              "mean   ...        0.029521      0.006416             0.515830   \n",
              "std    ...        0.169263      0.079846             0.499756   \n",
              "min    ...        0.000000      0.000000             0.000000   \n",
              "25%    ...        0.000000      0.000000             0.000000   \n",
              "50%    ...        0.000000      0.000000             1.000000   \n",
              "75%    ...        0.000000      0.000000             1.000000   \n",
              "max    ...        1.000000      1.000000             1.000000   \n",
              "\n",
              "       education_tertiary  education_unknown  contact_telephone  \\\n",
              "count        40209.000000       40209.000000       40209.000000   \n",
              "mean             0.293541           0.040488           0.057997   \n",
              "std              0.455390           0.197104           0.233741   \n",
              "min              0.000000           0.000000           0.000000   \n",
              "25%              0.000000           0.000000           0.000000   \n",
              "50%              0.000000           0.000000           0.000000   \n",
              "75%              1.000000           0.000000           0.000000   \n",
              "max              1.000000           1.000000           1.000000   \n",
              "\n",
              "       contact_unknown  poutcome_other  poutcome_success  poutcome_unknown  \n",
              "count     40209.000000    40209.000000      40209.000000      40209.000000  \n",
              "mean          0.305106        0.028874          0.029471          0.858539  \n",
              "std           0.460458        0.167455          0.169125          0.348501  \n",
              "min           0.000000        0.000000          0.000000          0.000000  \n",
              "25%           0.000000        0.000000          0.000000          1.000000  \n",
              "50%           0.000000        0.000000          0.000000          1.000000  \n",
              "75%           1.000000        0.000000          0.000000          1.000000  \n",
              "max           1.000000        1.000000          1.000000          1.000000  \n",
              "\n",
              "[8 rows x 29 columns]"
            ]
          },
          "metadata": {
            "tags": []
          },
          "execution_count": 28
        }
      ]
    },
    {
      "cell_type": "code",
      "metadata": {
        "execution": {
          "iopub.execute_input": "2020-09-13T15:03:21.589140Z",
          "iopub.status.busy": "2020-09-13T15:03:21.588236Z",
          "iopub.status.idle": "2020-09-13T15:03:21.593074Z",
          "shell.execute_reply": "2020-09-13T15:03:21.593577Z"
        },
        "papermill": {
          "duration": 0.082634,
          "end_time": "2020-09-13T15:03:21.593728",
          "exception": false,
          "start_time": "2020-09-13T15:03:21.511094",
          "status": "completed"
        },
        "tags": [],
        "id": "tlyTAacVMuY3",
        "outputId": "b93130c0-30fa-40ce-94dd-f34007983db8"
      },
      "source": [
        "df.head()"
      ],
      "execution_count": null,
      "outputs": [
        {
          "output_type": "execute_result",
          "data": {
            "text/html": [
              "<div>\n",
              "<style scoped>\n",
              "    .dataframe tbody tr th:only-of-type {\n",
              "        vertical-align: middle;\n",
              "    }\n",
              "\n",
              "    .dataframe tbody tr th {\n",
              "        vertical-align: top;\n",
              "    }\n",
              "\n",
              "    .dataframe thead th {\n",
              "        text-align: right;\n",
              "    }\n",
              "</style>\n",
              "<table border=\"1\" class=\"dataframe\">\n",
              "  <thead>\n",
              "    <tr style=\"text-align: right;\">\n",
              "      <th></th>\n",
              "      <th>age</th>\n",
              "      <th>default</th>\n",
              "      <th>balance</th>\n",
              "      <th>housing</th>\n",
              "      <th>loan</th>\n",
              "      <th>duration</th>\n",
              "      <th>campaign</th>\n",
              "      <th>pdays</th>\n",
              "      <th>previous</th>\n",
              "      <th>Target</th>\n",
              "      <th>...</th>\n",
              "      <th>job_unemployed</th>\n",
              "      <th>job_unknown</th>\n",
              "      <th>education_secondary</th>\n",
              "      <th>education_tertiary</th>\n",
              "      <th>education_unknown</th>\n",
              "      <th>contact_telephone</th>\n",
              "      <th>contact_unknown</th>\n",
              "      <th>poutcome_other</th>\n",
              "      <th>poutcome_success</th>\n",
              "      <th>poutcome_unknown</th>\n",
              "    </tr>\n",
              "  </thead>\n",
              "  <tbody>\n",
              "    <tr>\n",
              "      <th>0</th>\n",
              "      <td>58</td>\n",
              "      <td>0</td>\n",
              "      <td>2143</td>\n",
              "      <td>1</td>\n",
              "      <td>0</td>\n",
              "      <td>261</td>\n",
              "      <td>1</td>\n",
              "      <td>-1</td>\n",
              "      <td>0</td>\n",
              "      <td>0</td>\n",
              "      <td>...</td>\n",
              "      <td>0</td>\n",
              "      <td>0</td>\n",
              "      <td>0</td>\n",
              "      <td>1</td>\n",
              "      <td>0</td>\n",
              "      <td>0</td>\n",
              "      <td>1</td>\n",
              "      <td>0</td>\n",
              "      <td>0</td>\n",
              "      <td>1</td>\n",
              "    </tr>\n",
              "    <tr>\n",
              "      <th>1</th>\n",
              "      <td>44</td>\n",
              "      <td>0</td>\n",
              "      <td>29</td>\n",
              "      <td>1</td>\n",
              "      <td>0</td>\n",
              "      <td>151</td>\n",
              "      <td>1</td>\n",
              "      <td>-1</td>\n",
              "      <td>0</td>\n",
              "      <td>0</td>\n",
              "      <td>...</td>\n",
              "      <td>0</td>\n",
              "      <td>0</td>\n",
              "      <td>1</td>\n",
              "      <td>0</td>\n",
              "      <td>0</td>\n",
              "      <td>0</td>\n",
              "      <td>1</td>\n",
              "      <td>0</td>\n",
              "      <td>0</td>\n",
              "      <td>1</td>\n",
              "    </tr>\n",
              "    <tr>\n",
              "      <th>2</th>\n",
              "      <td>33</td>\n",
              "      <td>0</td>\n",
              "      <td>2</td>\n",
              "      <td>1</td>\n",
              "      <td>1</td>\n",
              "      <td>76</td>\n",
              "      <td>1</td>\n",
              "      <td>-1</td>\n",
              "      <td>0</td>\n",
              "      <td>0</td>\n",
              "      <td>...</td>\n",
              "      <td>0</td>\n",
              "      <td>0</td>\n",
              "      <td>1</td>\n",
              "      <td>0</td>\n",
              "      <td>0</td>\n",
              "      <td>0</td>\n",
              "      <td>1</td>\n",
              "      <td>0</td>\n",
              "      <td>0</td>\n",
              "      <td>1</td>\n",
              "    </tr>\n",
              "    <tr>\n",
              "      <th>3</th>\n",
              "      <td>47</td>\n",
              "      <td>0</td>\n",
              "      <td>1506</td>\n",
              "      <td>1</td>\n",
              "      <td>0</td>\n",
              "      <td>92</td>\n",
              "      <td>1</td>\n",
              "      <td>-1</td>\n",
              "      <td>0</td>\n",
              "      <td>0</td>\n",
              "      <td>...</td>\n",
              "      <td>0</td>\n",
              "      <td>0</td>\n",
              "      <td>0</td>\n",
              "      <td>0</td>\n",
              "      <td>1</td>\n",
              "      <td>0</td>\n",
              "      <td>1</td>\n",
              "      <td>0</td>\n",
              "      <td>0</td>\n",
              "      <td>1</td>\n",
              "    </tr>\n",
              "    <tr>\n",
              "      <th>4</th>\n",
              "      <td>33</td>\n",
              "      <td>0</td>\n",
              "      <td>1</td>\n",
              "      <td>0</td>\n",
              "      <td>0</td>\n",
              "      <td>198</td>\n",
              "      <td>1</td>\n",
              "      <td>-1</td>\n",
              "      <td>0</td>\n",
              "      <td>0</td>\n",
              "      <td>...</td>\n",
              "      <td>0</td>\n",
              "      <td>1</td>\n",
              "      <td>0</td>\n",
              "      <td>0</td>\n",
              "      <td>1</td>\n",
              "      <td>0</td>\n",
              "      <td>1</td>\n",
              "      <td>0</td>\n",
              "      <td>0</td>\n",
              "      <td>1</td>\n",
              "    </tr>\n",
              "  </tbody>\n",
              "</table>\n",
              "<p>5 rows × 29 columns</p>\n",
              "</div>"
            ],
            "text/plain": [
              "   age  default  balance  housing  loan  duration  campaign  pdays  previous  \\\n",
              "0   58        0     2143        1     0       261         1     -1         0   \n",
              "1   44        0       29        1     0       151         1     -1         0   \n",
              "2   33        0        2        1     1        76         1     -1         0   \n",
              "3   47        0     1506        1     0        92         1     -1         0   \n",
              "4   33        0        1        0     0       198         1     -1         0   \n",
              "\n",
              "   Target  ...  job_unemployed  job_unknown  education_secondary  \\\n",
              "0       0  ...               0            0                    0   \n",
              "1       0  ...               0            0                    1   \n",
              "2       0  ...               0            0                    1   \n",
              "3       0  ...               0            0                    0   \n",
              "4       0  ...               0            1                    0   \n",
              "\n",
              "   education_tertiary  education_unknown  contact_telephone  contact_unknown  \\\n",
              "0                   1                  0                  0                1   \n",
              "1                   0                  0                  0                1   \n",
              "2                   0                  0                  0                1   \n",
              "3                   0                  1                  0                1   \n",
              "4                   0                  1                  0                1   \n",
              "\n",
              "   poutcome_other  poutcome_success  poutcome_unknown  \n",
              "0               0                 0                 1  \n",
              "1               0                 0                 1  \n",
              "2               0                 0                 1  \n",
              "3               0                 0                 1  \n",
              "4               0                 0                 1  \n",
              "\n",
              "[5 rows x 29 columns]"
            ]
          },
          "metadata": {
            "tags": []
          },
          "execution_count": 29
        }
      ]
    },
    {
      "cell_type": "code",
      "metadata": {
        "execution": {
          "iopub.execute_input": "2020-09-13T15:03:21.715221Z",
          "iopub.status.busy": "2020-09-13T15:03:21.714519Z",
          "iopub.status.idle": "2020-09-13T15:03:24.885469Z",
          "shell.execute_reply": "2020-09-13T15:03:24.886105Z"
        },
        "papermill": {
          "duration": 3.232865,
          "end_time": "2020-09-13T15:03:24.886277",
          "exception": false,
          "start_time": "2020-09-13T15:03:21.653412",
          "status": "completed"
        },
        "tags": [],
        "id": "hyfdISRLMuY-",
        "outputId": "0feff323-08e8-4aec-d533-a0a1f8970237"
      },
      "source": [
        "plt.figure(figsize=(20,10))\n",
        "sns.heatmap(df.corr(),annot=True)"
      ],
      "execution_count": null,
      "outputs": [
        {
          "output_type": "execute_result",
          "data": {
            "text/plain": [
              "<matplotlib.axes._subplots.AxesSubplot at 0x7f44620fe510>"
            ]
          },
          "metadata": {
            "tags": []
          },
          "execution_count": 30
        },
        {
          "output_type": "display_data",
          "data": {
            "image/png": "[encoded data removed]",
            "text/plain": [
              "<Figure size 1440x720 with 2 Axes>"
            ]
          },
          "metadata": {
            "tags": [],
            "needs_background": "light"
          }
        }
      ]
    },
    {
      "cell_type": "code",
      "metadata": {
        "execution": {
          "iopub.execute_input": "2020-09-13T15:03:25.078966Z",
          "iopub.status.busy": "2020-09-13T15:03:25.078131Z",
          "iopub.status.idle": "2020-09-13T15:03:25.082411Z",
          "shell.execute_reply": "2020-09-13T15:03:25.081766Z"
        },
        "papermill": {
          "duration": 0.126725,
          "end_time": "2020-09-13T15:03:25.082528",
          "exception": false,
          "start_time": "2020-09-13T15:03:24.955803",
          "status": "completed"
        },
        "tags": [],
        "id": "TUZYLtrgMuZB"
      },
      "source": [
        "X = df.drop(['Target'],1)\n",
        "y = df['Target']"
      ],
      "execution_count": null,
      "outputs": []
    },
    {
      "cell_type": "markdown",
      "metadata": {
        "papermill": {
          "duration": 0.068155,
          "end_time": "2020-09-13T15:03:25.219658",
          "exception": false,
          "start_time": "2020-09-13T15:03:25.151503",
          "status": "completed"
        },
        "tags": [],
        "id": "x86C6c-eMuZF"
      },
      "source": [
        "# Removal of irrelevant variables\n",
        "\n",
        "*Here we will use logit function to check which variables are relevant. This is done by checking the p-value of the variables. The variables which has p-value greater then 0.05 will be removed*"
      ]
    },
    {
      "cell_type": "code",
      "metadata": {
        "execution": {
          "iopub.execute_input": "2020-09-13T15:03:25.363207Z",
          "iopub.status.busy": "2020-09-13T15:03:25.362458Z",
          "iopub.status.idle": "2020-09-13T15:03:26.477804Z",
          "shell.execute_reply": "2020-09-13T15:03:26.478426Z"
        },
        "papermill": {
          "duration": 1.190737,
          "end_time": "2020-09-13T15:03:26.478617",
          "exception": false,
          "start_time": "2020-09-13T15:03:25.287880",
          "status": "completed"
        },
        "tags": [],
        "id": "lNyhp4RpMuZG",
        "outputId": "98909f17-92aa-4642-c3c0-80841e5061b0"
      },
      "source": [
        "import statsmodels.api as sm\n",
        "\n",
        "res = sm.Logit(y,X).fit()\n",
        "res.summary()"
      ],
      "execution_count": null,
      "outputs": [
        {
          "output_type": "stream",
          "text": [
            "Optimization terminated successfully.\n",
            "         Current function value: 0.224485\n",
            "         Iterations 8\n"
          ],
          "name": "stdout"
        },
        {
          "output_type": "execute_result",
          "data": {
            "text/html": [
              "<table class=\"simpletable\">\n",
              "<caption>Logit Regression Results</caption>\n",
              "<tr>\n",
              "  <th>Dep. Variable:</th>        <td>Target</td>      <th>  No. Observations:  </th>  <td> 40209</td> \n",
              "</tr>\n",
              "<tr>\n",
              "  <th>Model:</th>                 <td>Logit</td>      <th>  Df Residuals:      </th>  <td> 40181</td> \n",
              "</tr>\n",
              "<tr>\n",
              "  <th>Method:</th>                 <td>MLE</td>       <th>  Df Model:          </th>  <td>    27</td> \n",
              "</tr>\n",
              "<tr>\n",
              "  <th>Date:</th>            <td>Sun, 13 Sep 2020</td> <th>  Pseudo R-squ.:     </th>  <td>0.3133</td> \n",
              "</tr>\n",
              "<tr>\n",
              "  <th>Time:</th>                <td>15:03:26</td>     <th>  Log-Likelihood:    </th> <td> -9026.3</td>\n",
              "</tr>\n",
              "<tr>\n",
              "  <th>converged:</th>             <td>True</td>       <th>  LL-Null:           </th> <td> -13144.</td>\n",
              "</tr>\n",
              "<tr>\n",
              "  <th>Covariance Type:</th>     <td>nonrobust</td>    <th>  LLR p-value:       </th>  <td> 0.000</td> \n",
              "</tr>\n",
              "</table>\n",
              "<table class=\"simpletable\">\n",
              "<tr>\n",
              "           <td></td>              <th>coef</th>     <th>std err</th>      <th>z</th>      <th>P>|z|</th>  <th>[0.025</th>    <th>0.975]</th>  \n",
              "</tr>\n",
              "<tr>\n",
              "  <th>age</th>                 <td>   -0.0230</td> <td>    0.002</td> <td>  -11.857</td> <td> 0.000</td> <td>   -0.027</td> <td>   -0.019</td>\n",
              "</tr>\n",
              "<tr>\n",
              "  <th>default</th>             <td>   -0.0635</td> <td>    0.174</td> <td>   -0.365</td> <td> 0.715</td> <td>   -0.404</td> <td>    0.277</td>\n",
              "</tr>\n",
              "<tr>\n",
              "  <th>balance</th>             <td> 4.689e-05</td> <td> 1.06e-05</td> <td>    4.441</td> <td> 0.000</td> <td> 2.62e-05</td> <td> 6.76e-05</td>\n",
              "</tr>\n",
              "<tr>\n",
              "  <th>housing</th>             <td>   -0.9233</td> <td>    0.044</td> <td>  -21.117</td> <td> 0.000</td> <td>   -1.009</td> <td>   -0.838</td>\n",
              "</tr>\n",
              "<tr>\n",
              "  <th>loan</th>                <td>   -0.6947</td> <td>    0.066</td> <td>  -10.561</td> <td> 0.000</td> <td>   -0.824</td> <td>   -0.566</td>\n",
              "</tr>\n",
              "<tr>\n",
              "  <th>duration</th>            <td>    0.0054</td> <td> 8.82e-05</td> <td>   60.807</td> <td> 0.000</td> <td>    0.005</td> <td>    0.006</td>\n",
              "</tr>\n",
              "<tr>\n",
              "  <th>campaign</th>            <td>   -0.1713</td> <td>    0.014</td> <td>  -12.625</td> <td> 0.000</td> <td>   -0.198</td> <td>   -0.145</td>\n",
              "</tr>\n",
              "<tr>\n",
              "  <th>pdays</th>               <td>   -0.0060</td> <td>    0.000</td> <td>  -13.129</td> <td> 0.000</td> <td>   -0.007</td> <td>   -0.005</td>\n",
              "</tr>\n",
              "<tr>\n",
              "  <th>previous</th>            <td>   -0.0221</td> <td>    0.023</td> <td>   -0.960</td> <td> 0.337</td> <td>   -0.067</td> <td>    0.023</td>\n",
              "</tr>\n",
              "<tr>\n",
              "  <th>job_blue-collar</th>     <td>   -0.6765</td> <td>    0.075</td> <td>   -9.055</td> <td> 0.000</td> <td>   -0.823</td> <td>   -0.530</td>\n",
              "</tr>\n",
              "<tr>\n",
              "  <th>job_entrepreneur</th>    <td>   -0.7811</td> <td>    0.137</td> <td>   -5.717</td> <td> 0.000</td> <td>   -1.049</td> <td>   -0.513</td>\n",
              "</tr>\n",
              "<tr>\n",
              "  <th>job_housemaid</th>       <td>   -0.7125</td> <td>    0.143</td> <td>   -4.998</td> <td> 0.000</td> <td>   -0.992</td> <td>   -0.433</td>\n",
              "</tr>\n",
              "<tr>\n",
              "  <th>job_management</th>      <td>   -0.4971</td> <td>    0.077</td> <td>   -6.475</td> <td> 0.000</td> <td>   -0.648</td> <td>   -0.347</td>\n",
              "</tr>\n",
              "<tr>\n",
              "  <th>job_retired</th>         <td>    0.2490</td> <td>    0.108</td> <td>    2.315</td> <td> 0.021</td> <td>    0.038</td> <td>    0.460</td>\n",
              "</tr>\n",
              "<tr>\n",
              "  <th>job_self-employed</th>   <td>   -0.7095</td> <td>    0.121</td> <td>   -5.865</td> <td> 0.000</td> <td>   -0.947</td> <td>   -0.472</td>\n",
              "</tr>\n",
              "<tr>\n",
              "  <th>job_services</th>        <td>   -0.5346</td> <td>    0.089</td> <td>   -5.982</td> <td> 0.000</td> <td>   -0.710</td> <td>   -0.359</td>\n",
              "</tr>\n",
              "<tr>\n",
              "  <th>job_student</th>         <td>    0.1635</td> <td>    0.109</td> <td>    1.496</td> <td> 0.135</td> <td>   -0.051</td> <td>    0.378</td>\n",
              "</tr>\n",
              "<tr>\n",
              "  <th>job_technician</th>      <td>   -0.4993</td> <td>    0.071</td> <td>   -6.993</td> <td> 0.000</td> <td>   -0.639</td> <td>   -0.359</td>\n",
              "</tr>\n",
              "<tr>\n",
              "  <th>job_unemployed</th>      <td>   -0.5097</td> <td>    0.117</td> <td>   -4.365</td> <td> 0.000</td> <td>   -0.739</td> <td>   -0.281</td>\n",
              "</tr>\n",
              "<tr>\n",
              "  <th>job_unknown</th>         <td>   -0.7254</td> <td>    0.264</td> <td>   -2.744</td> <td> 0.006</td> <td>   -1.244</td> <td>   -0.207</td>\n",
              "</tr>\n",
              "<tr>\n",
              "  <th>education_secondary</th> <td>   -0.1423</td> <td>    0.063</td> <td>   -2.247</td> <td> 0.025</td> <td>   -0.267</td> <td>   -0.018</td>\n",
              "</tr>\n",
              "<tr>\n",
              "  <th>education_tertiary</th>  <td>    0.1739</td> <td>    0.075</td> <td>    2.330</td> <td> 0.020</td> <td>    0.028</td> <td>    0.320</td>\n",
              "</tr>\n",
              "<tr>\n",
              "  <th>education_unknown</th>   <td>    0.0398</td> <td>    0.112</td> <td>    0.356</td> <td> 0.722</td> <td>   -0.179</td> <td>    0.259</td>\n",
              "</tr>\n",
              "<tr>\n",
              "  <th>contact_telephone</th>   <td>    0.0369</td> <td>    0.085</td> <td>    0.432</td> <td> 0.666</td> <td>   -0.131</td> <td>    0.204</td>\n",
              "</tr>\n",
              "<tr>\n",
              "  <th>contact_unknown</th>     <td>   -1.2353</td> <td>    0.064</td> <td>  -19.320</td> <td> 0.000</td> <td>   -1.361</td> <td>   -1.110</td>\n",
              "</tr>\n",
              "<tr>\n",
              "  <th>poutcome_other</th>      <td>   -0.0359</td> <td>    0.107</td> <td>   -0.335</td> <td> 0.738</td> <td>   -0.246</td> <td>    0.175</td>\n",
              "</tr>\n",
              "<tr>\n",
              "  <th>poutcome_success</th>    <td>    1.9666</td> <td>    0.088</td> <td>   22.421</td> <td> 0.000</td> <td>    1.795</td> <td>    2.139</td>\n",
              "</tr>\n",
              "<tr>\n",
              "  <th>poutcome_unknown</th>    <td>   -1.7021</td> <td>    0.095</td> <td>  -17.906</td> <td> 0.000</td> <td>   -1.888</td> <td>   -1.516</td>\n",
              "</tr>\n",
              "</table>"
            ],
            "text/plain": [
              "<class 'statsmodels.iolib.summary.Summary'>\n",
              "\"\"\"\n",
              "                           Logit Regression Results                           \n",
              "==============================================================================\n",
              "Dep. Variable:                 Target   No. Observations:                40209\n",
              "Model:                          Logit   Df Residuals:                    40181\n",
              "Method:                           MLE   Df Model:                           27\n",
              "Date:                Sun, 13 Sep 2020   Pseudo R-squ.:                  0.3133\n",
              "Time:                        15:03:26   Log-Likelihood:                -9026.3\n",
              "converged:                       True   LL-Null:                       -13144.\n",
              "Covariance Type:            nonrobust   LLR p-value:                     0.000\n",
              "=======================================================================================\n",
              "                          coef    std err          z      P>|z|      [0.025      0.975]\n",
              "---------------------------------------------------------------------------------------\n",
              "age                    -0.0230      0.002    -11.857      0.000      -0.027      -0.019\n",
              "default                -0.0635      0.174     -0.365      0.715      -0.404       0.277\n",
              "balance              4.689e-05   1.06e-05      4.441      0.000    2.62e-05    6.76e-05\n",
              "housing                -0.9233      0.044    -21.117      0.000      -1.009      -0.838\n",
              "loan                   -0.6947      0.066    -10.561      0.000      -0.824      -0.566\n",
              "duration                0.0054   8.82e-05     60.807      0.000       0.005       0.006\n",
              "campaign               -0.1713      0.014    -12.625      0.000      -0.198      -0.145\n",
              "pdays                  -0.0060      0.000    -13.129      0.000      -0.007      -0.005\n",
              "previous               -0.0221      0.023     -0.960      0.337      -0.067       0.023\n",
              "job_blue-collar        -0.6765      0.075     -9.055      0.000      -0.823      -0.530\n",
              "job_entrepreneur       -0.7811      0.137     -5.717      0.000      -1.049      -0.513\n",
              "job_housemaid          -0.7125      0.143     -4.998      0.000      -0.992      -0.433\n",
              "job_management         -0.4971      0.077     -6.475      0.000      -0.648      -0.347\n",
              "job_retired             0.2490      0.108      2.315      0.021       0.038       0.460\n",
              "job_self-employed      -0.7095      0.121     -5.865      0.000      -0.947      -0.472\n",
              "job_services           -0.5346      0.089     -5.982      0.000      -0.710      -0.359\n",
              "job_student             0.1635      0.109      1.496      0.135      -0.051       0.378\n",
              "job_technician         -0.4993      0.071     -6.993      0.000      -0.639      -0.359\n",
              "job_unemployed         -0.5097      0.117     -4.365      0.000      -0.739      -0.281\n",
              "job_unknown            -0.7254      0.264     -2.744      0.006      -1.244      -0.207\n",
              "education_secondary    -0.1423      0.063     -2.247      0.025      -0.267      -0.018\n",
              "education_tertiary      0.1739      0.075      2.330      0.020       0.028       0.320\n",
              "education_unknown       0.0398      0.112      0.356      0.722      -0.179       0.259\n",
              "contact_telephone       0.0369      0.085      0.432      0.666      -0.131       0.204\n",
              "contact_unknown        -1.2353      0.064    -19.320      0.000      -1.361      -1.110\n",
              "poutcome_other         -0.0359      0.107     -0.335      0.738      -0.246       0.175\n",
              "poutcome_success        1.9666      0.088     22.421      0.000       1.795       2.139\n",
              "poutcome_unknown       -1.7021      0.095    -17.906      0.000      -1.888      -1.516\n",
              "=======================================================================================\n",
              "\"\"\""
            ]
          },
          "metadata": {
            "tags": []
          },
          "execution_count": 32
        }
      ]
    },
    {
      "cell_type": "code",
      "metadata": {
        "execution": {
          "iopub.execute_input": "2020-09-13T15:03:26.629136Z",
          "iopub.status.busy": "2020-09-13T15:03:26.628190Z",
          "iopub.status.idle": "2020-09-13T15:03:26.632413Z",
          "shell.execute_reply": "2020-09-13T15:03:26.631775Z"
        },
        "papermill": {
          "duration": 0.080402,
          "end_time": "2020-09-13T15:03:26.632526",
          "exception": false,
          "start_time": "2020-09-13T15:03:26.552124",
          "status": "completed"
        },
        "tags": [],
        "id": "JDb04AWZMuZN"
      },
      "source": [
        "X.drop(['poutcome_other','default'],1,inplace=True)"
      ],
      "execution_count": null,
      "outputs": []
    },
    {
      "cell_type": "code",
      "metadata": {
        "execution": {
          "iopub.execute_input": "2020-09-13T15:03:26.779962Z",
          "iopub.status.busy": "2020-09-13T15:03:26.779257Z",
          "iopub.status.idle": "2020-09-13T15:03:27.156816Z",
          "shell.execute_reply": "2020-09-13T15:03:27.157626Z"
        },
        "papermill": {
          "duration": 0.455322,
          "end_time": "2020-09-13T15:03:27.157807",
          "exception": false,
          "start_time": "2020-09-13T15:03:26.702485",
          "status": "completed"
        },
        "tags": [],
        "id": "53vgWrlPMuZT",
        "outputId": "dc1ee208-dcbe-4e1e-d50a-008fca162ca6"
      },
      "source": [
        "res = sm.Logit(y,X).fit()\n",
        "res.summary()"
      ],
      "execution_count": null,
      "outputs": [
        {
          "output_type": "stream",
          "text": [
            "Optimization terminated successfully.\n",
            "         Current function value: 0.224488\n",
            "         Iterations 8\n"
          ],
          "name": "stdout"
        },
        {
          "output_type": "execute_result",
          "data": {
            "text/html": [
              "<table class=\"simpletable\">\n",
              "<caption>Logit Regression Results</caption>\n",
              "<tr>\n",
              "  <th>Dep. Variable:</th>        <td>Target</td>      <th>  No. Observations:  </th>  <td> 40209</td> \n",
              "</tr>\n",
              "<tr>\n",
              "  <th>Model:</th>                 <td>Logit</td>      <th>  Df Residuals:      </th>  <td> 40183</td> \n",
              "</tr>\n",
              "<tr>\n",
              "  <th>Method:</th>                 <td>MLE</td>       <th>  Df Model:          </th>  <td>    25</td> \n",
              "</tr>\n",
              "<tr>\n",
              "  <th>Date:</th>            <td>Sun, 13 Sep 2020</td> <th>  Pseudo R-squ.:     </th>  <td>0.3133</td> \n",
              "</tr>\n",
              "<tr>\n",
              "  <th>Time:</th>                <td>15:03:27</td>     <th>  Log-Likelihood:    </th> <td> -9026.5</td>\n",
              "</tr>\n",
              "<tr>\n",
              "  <th>converged:</th>             <td>True</td>       <th>  LL-Null:           </th> <td> -13144.</td>\n",
              "</tr>\n",
              "<tr>\n",
              "  <th>Covariance Type:</th>     <td>nonrobust</td>    <th>  LLR p-value:       </th>  <td> 0.000</td> \n",
              "</tr>\n",
              "</table>\n",
              "<table class=\"simpletable\">\n",
              "<tr>\n",
              "           <td></td>              <th>coef</th>     <th>std err</th>      <th>z</th>      <th>P>|z|</th>  <th>[0.025</th>    <th>0.975]</th>  \n",
              "</tr>\n",
              "<tr>\n",
              "  <th>age</th>                 <td>   -0.0231</td> <td>    0.002</td> <td>  -11.970</td> <td> 0.000</td> <td>   -0.027</td> <td>   -0.019</td>\n",
              "</tr>\n",
              "<tr>\n",
              "  <th>balance</th>             <td> 4.724e-05</td> <td> 1.05e-05</td> <td>    4.488</td> <td> 0.000</td> <td> 2.66e-05</td> <td> 6.79e-05</td>\n",
              "</tr>\n",
              "<tr>\n",
              "  <th>housing</th>             <td>   -0.9231</td> <td>    0.044</td> <td>  -21.116</td> <td> 0.000</td> <td>   -1.009</td> <td>   -0.837</td>\n",
              "</tr>\n",
              "<tr>\n",
              "  <th>loan</th>                <td>   -0.6967</td> <td>    0.066</td> <td>  -10.620</td> <td> 0.000</td> <td>   -0.825</td> <td>   -0.568</td>\n",
              "</tr>\n",
              "<tr>\n",
              "  <th>duration</th>            <td>    0.0054</td> <td> 8.82e-05</td> <td>   60.836</td> <td> 0.000</td> <td>    0.005</td> <td>    0.006</td>\n",
              "</tr>\n",
              "<tr>\n",
              "  <th>campaign</th>            <td>   -0.1715</td> <td>    0.014</td> <td>  -12.650</td> <td> 0.000</td> <td>   -0.198</td> <td>   -0.145</td>\n",
              "</tr>\n",
              "<tr>\n",
              "  <th>pdays</th>               <td>   -0.0060</td> <td>    0.000</td> <td>  -13.155</td> <td> 0.000</td> <td>   -0.007</td> <td>   -0.005</td>\n",
              "</tr>\n",
              "<tr>\n",
              "  <th>previous</th>            <td>   -0.0230</td> <td>    0.023</td> <td>   -1.003</td> <td> 0.316</td> <td>   -0.068</td> <td>    0.022</td>\n",
              "</tr>\n",
              "<tr>\n",
              "  <th>job_blue-collar</th>     <td>   -0.6786</td> <td>    0.075</td> <td>   -9.101</td> <td> 0.000</td> <td>   -0.825</td> <td>   -0.532</td>\n",
              "</tr>\n",
              "<tr>\n",
              "  <th>job_entrepreneur</th>    <td>   -0.7837</td> <td>    0.137</td> <td>   -5.740</td> <td> 0.000</td> <td>   -1.051</td> <td>   -0.516</td>\n",
              "</tr>\n",
              "<tr>\n",
              "  <th>job_housemaid</th>       <td>   -0.7140</td> <td>    0.142</td> <td>   -5.011</td> <td> 0.000</td> <td>   -0.993</td> <td>   -0.435</td>\n",
              "</tr>\n",
              "<tr>\n",
              "  <th>job_management</th>      <td>   -0.4988</td> <td>    0.077</td> <td>   -6.505</td> <td> 0.000</td> <td>   -0.649</td> <td>   -0.349</td>\n",
              "</tr>\n",
              "<tr>\n",
              "  <th>job_retired</th>         <td>    0.2489</td> <td>    0.108</td> <td>    2.314</td> <td> 0.021</td> <td>    0.038</td> <td>    0.460</td>\n",
              "</tr>\n",
              "<tr>\n",
              "  <th>job_self-employed</th>   <td>   -0.7113</td> <td>    0.121</td> <td>   -5.883</td> <td> 0.000</td> <td>   -0.948</td> <td>   -0.474</td>\n",
              "</tr>\n",
              "<tr>\n",
              "  <th>job_services</th>        <td>   -0.5358</td> <td>    0.089</td> <td>   -6.001</td> <td> 0.000</td> <td>   -0.711</td> <td>   -0.361</td>\n",
              "</tr>\n",
              "<tr>\n",
              "  <th>job_student</th>         <td>    0.1610</td> <td>    0.109</td> <td>    1.478</td> <td> 0.140</td> <td>   -0.053</td> <td>    0.375</td>\n",
              "</tr>\n",
              "<tr>\n",
              "  <th>job_technician</th>      <td>   -0.5005</td> <td>    0.071</td> <td>   -7.017</td> <td> 0.000</td> <td>   -0.640</td> <td>   -0.361</td>\n",
              "</tr>\n",
              "<tr>\n",
              "  <th>job_unemployed</th>      <td>   -0.5113</td> <td>    0.117</td> <td>   -4.382</td> <td> 0.000</td> <td>   -0.740</td> <td>   -0.283</td>\n",
              "</tr>\n",
              "<tr>\n",
              "  <th>job_unknown</th>         <td>   -0.7252</td> <td>    0.264</td> <td>   -2.743</td> <td> 0.006</td> <td>   -1.243</td> <td>   -0.207</td>\n",
              "</tr>\n",
              "<tr>\n",
              "  <th>education_secondary</th> <td>   -0.1445</td> <td>    0.063</td> <td>   -2.293</td> <td> 0.022</td> <td>   -0.268</td> <td>   -0.021</td>\n",
              "</tr>\n",
              "<tr>\n",
              "  <th>education_tertiary</th>  <td>    0.1722</td> <td>    0.074</td> <td>    2.315</td> <td> 0.021</td> <td>    0.026</td> <td>    0.318</td>\n",
              "</tr>\n",
              "<tr>\n",
              "  <th>education_unknown</th>   <td>    0.0381</td> <td>    0.112</td> <td>    0.342</td> <td> 0.733</td> <td>   -0.181</td> <td>    0.257</td>\n",
              "</tr>\n",
              "<tr>\n",
              "  <th>contact_telephone</th>   <td>    0.0370</td> <td>    0.085</td> <td>    0.433</td> <td> 0.665</td> <td>   -0.130</td> <td>    0.204</td>\n",
              "</tr>\n",
              "<tr>\n",
              "  <th>contact_unknown</th>     <td>   -1.2356</td> <td>    0.064</td> <td>  -19.327</td> <td> 0.000</td> <td>   -1.361</td> <td>   -1.110</td>\n",
              "</tr>\n",
              "<tr>\n",
              "  <th>poutcome_success</th>    <td>    1.9761</td> <td>    0.083</td> <td>   23.738</td> <td> 0.000</td> <td>    1.813</td> <td>    2.139</td>\n",
              "</tr>\n",
              "<tr>\n",
              "  <th>poutcome_unknown</th>    <td>   -1.6966</td> <td>    0.093</td> <td>  -18.230</td> <td> 0.000</td> <td>   -1.879</td> <td>   -1.514</td>\n",
              "</tr>\n",
              "</table>"
            ],
            "text/plain": [
              "<class 'statsmodels.iolib.summary.Summary'>\n",
              "\"\"\"\n",
              "                           Logit Regression Results                           \n",
              "==============================================================================\n",
              "Dep. Variable:                 Target   No. Observations:                40209\n",
              "Model:                          Logit   Df Residuals:                    40183\n",
              "Method:                           MLE   Df Model:                           25\n",
              "Date:                Sun, 13 Sep 2020   Pseudo R-squ.:                  0.3133\n",
              "Time:                        15:03:27   Log-Likelihood:                -9026.5\n",
              "converged:                       True   LL-Null:                       -13144.\n",
              "Covariance Type:            nonrobust   LLR p-value:                     0.000\n",
              "=======================================================================================\n",
              "                          coef    std err          z      P>|z|      [0.025      0.975]\n",
              "---------------------------------------------------------------------------------------\n",
              "age                    -0.0231      0.002    -11.970      0.000      -0.027      -0.019\n",
              "balance              4.724e-05   1.05e-05      4.488      0.000    2.66e-05    6.79e-05\n",
              "housing                -0.9231      0.044    -21.116      0.000      -1.009      -0.837\n",
              "loan                   -0.6967      0.066    -10.620      0.000      -0.825      -0.568\n",
              "duration                0.0054   8.82e-05     60.836      0.000       0.005       0.006\n",
              "campaign               -0.1715      0.014    -12.650      0.000      -0.198      -0.145\n",
              "pdays                  -0.0060      0.000    -13.155      0.000      -0.007      -0.005\n",
              "previous               -0.0230      0.023     -1.003      0.316      -0.068       0.022\n",
              "job_blue-collar        -0.6786      0.075     -9.101      0.000      -0.825      -0.532\n",
              "job_entrepreneur       -0.7837      0.137     -5.740      0.000      -1.051      -0.516\n",
              "job_housemaid          -0.7140      0.142     -5.011      0.000      -0.993      -0.435\n",
              "job_management         -0.4988      0.077     -6.505      0.000      -0.649      -0.349\n",
              "job_retired             0.2489      0.108      2.314      0.021       0.038       0.460\n",
              "job_self-employed      -0.7113      0.121     -5.883      0.000      -0.948      -0.474\n",
              "job_services           -0.5358      0.089     -6.001      0.000      -0.711      -0.361\n",
              "job_student             0.1610      0.109      1.478      0.140      -0.053       0.375\n",
              "job_technician         -0.5005      0.071     -7.017      0.000      -0.640      -0.361\n",
              "job_unemployed         -0.5113      0.117     -4.382      0.000      -0.740      -0.283\n",
              "job_unknown            -0.7252      0.264     -2.743      0.006      -1.243      -0.207\n",
              "education_secondary    -0.1445      0.063     -2.293      0.022      -0.268      -0.021\n",
              "education_tertiary      0.1722      0.074      2.315      0.021       0.026       0.318\n",
              "education_unknown       0.0381      0.112      0.342      0.733      -0.181       0.257\n",
              "contact_telephone       0.0370      0.085      0.433      0.665      -0.130       0.204\n",
              "contact_unknown        -1.2356      0.064    -19.327      0.000      -1.361      -1.110\n",
              "poutcome_success        1.9761      0.083     23.738      0.000       1.813       2.139\n",
              "poutcome_unknown       -1.6966      0.093    -18.230      0.000      -1.879      -1.514\n",
              "=======================================================================================\n",
              "\"\"\""
            ]
          },
          "metadata": {
            "tags": []
          },
          "execution_count": 34
        }
      ]
    },
    {
      "cell_type": "code",
      "metadata": {
        "execution": {
          "iopub.execute_input": "2020-09-13T15:03:27.310826Z",
          "iopub.status.busy": "2020-09-13T15:03:27.309997Z",
          "iopub.status.idle": "2020-09-13T15:03:27.314200Z",
          "shell.execute_reply": "2020-09-13T15:03:27.313512Z"
        },
        "papermill": {
          "duration": 0.08222,
          "end_time": "2020-09-13T15:03:27.314319",
          "exception": false,
          "start_time": "2020-09-13T15:03:27.232099",
          "status": "completed"
        },
        "tags": [],
        "id": "_scni7ygMuZY"
      },
      "source": [
        "X.drop(['education_unknown','contact_telephone'],1,inplace=True)"
      ],
      "execution_count": null,
      "outputs": []
    },
    {
      "cell_type": "code",
      "metadata": {
        "execution": {
          "iopub.execute_input": "2020-09-13T15:03:27.465706Z",
          "iopub.status.busy": "2020-09-13T15:03:27.464631Z",
          "iopub.status.idle": "2020-09-13T15:03:27.804472Z",
          "shell.execute_reply": "2020-09-13T15:03:27.803875Z"
        },
        "papermill": {
          "duration": 0.416801,
          "end_time": "2020-09-13T15:03:27.804604",
          "exception": false,
          "start_time": "2020-09-13T15:03:27.387803",
          "status": "completed"
        },
        "tags": [],
        "id": "ylRzDC9PMuZd",
        "outputId": "d6b6de38-84c3-4c42-9f52-b0eb99cda339"
      },
      "source": [
        "res = sm.Logit(y,X).fit()\n",
        "res.summary()"
      ],
      "execution_count": null,
      "outputs": [
        {
          "output_type": "stream",
          "text": [
            "Optimization terminated successfully.\n",
            "         Current function value: 0.224492\n",
            "         Iterations 8\n"
          ],
          "name": "stdout"
        },
        {
          "output_type": "execute_result",
          "data": {
            "text/html": [
              "<table class=\"simpletable\">\n",
              "<caption>Logit Regression Results</caption>\n",
              "<tr>\n",
              "  <th>Dep. Variable:</th>        <td>Target</td>      <th>  No. Observations:  </th>  <td> 40209</td> \n",
              "</tr>\n",
              "<tr>\n",
              "  <th>Model:</th>                 <td>Logit</td>      <th>  Df Residuals:      </th>  <td> 40185</td> \n",
              "</tr>\n",
              "<tr>\n",
              "  <th>Method:</th>                 <td>MLE</td>       <th>  Df Model:          </th>  <td>    23</td> \n",
              "</tr>\n",
              "<tr>\n",
              "  <th>Date:</th>            <td>Sun, 13 Sep 2020</td> <th>  Pseudo R-squ.:     </th>  <td>0.3132</td> \n",
              "</tr>\n",
              "<tr>\n",
              "  <th>Time:</th>                <td>15:03:27</td>     <th>  Log-Likelihood:    </th> <td> -9026.6</td>\n",
              "</tr>\n",
              "<tr>\n",
              "  <th>converged:</th>             <td>True</td>       <th>  LL-Null:           </th> <td> -13144.</td>\n",
              "</tr>\n",
              "<tr>\n",
              "  <th>Covariance Type:</th>     <td>nonrobust</td>    <th>  LLR p-value:       </th>  <td> 0.000</td> \n",
              "</tr>\n",
              "</table>\n",
              "<table class=\"simpletable\">\n",
              "<tr>\n",
              "           <td></td>              <th>coef</th>     <th>std err</th>      <th>z</th>      <th>P>|z|</th>  <th>[0.025</th>    <th>0.975]</th>  \n",
              "</tr>\n",
              "<tr>\n",
              "  <th>age</th>                 <td>   -0.0229</td> <td>    0.002</td> <td>  -12.068</td> <td> 0.000</td> <td>   -0.027</td> <td>   -0.019</td>\n",
              "</tr>\n",
              "<tr>\n",
              "  <th>balance</th>             <td>  4.74e-05</td> <td> 1.05e-05</td> <td>    4.505</td> <td> 0.000</td> <td> 2.68e-05</td> <td>  6.8e-05</td>\n",
              "</tr>\n",
              "<tr>\n",
              "  <th>housing</th>             <td>   -0.9236</td> <td>    0.044</td> <td>  -21.131</td> <td> 0.000</td> <td>   -1.009</td> <td>   -0.838</td>\n",
              "</tr>\n",
              "<tr>\n",
              "  <th>loan</th>                <td>   -0.6969</td> <td>    0.066</td> <td>  -10.623</td> <td> 0.000</td> <td>   -0.826</td> <td>   -0.568</td>\n",
              "</tr>\n",
              "<tr>\n",
              "  <th>duration</th>            <td>    0.0054</td> <td> 8.81e-05</td> <td>   60.897</td> <td> 0.000</td> <td>    0.005</td> <td>    0.006</td>\n",
              "</tr>\n",
              "<tr>\n",
              "  <th>campaign</th>            <td>   -0.1712</td> <td>    0.014</td> <td>  -12.646</td> <td> 0.000</td> <td>   -0.198</td> <td>   -0.145</td>\n",
              "</tr>\n",
              "<tr>\n",
              "  <th>pdays</th>               <td>   -0.0060</td> <td>    0.000</td> <td>  -13.228</td> <td> 0.000</td> <td>   -0.007</td> <td>   -0.005</td>\n",
              "</tr>\n",
              "<tr>\n",
              "  <th>previous</th>            <td>   -0.0224</td> <td>    0.023</td> <td>   -0.982</td> <td> 0.326</td> <td>   -0.067</td> <td>    0.022</td>\n",
              "</tr>\n",
              "<tr>\n",
              "  <th>job_blue-collar</th>     <td>   -0.6804</td> <td>    0.074</td> <td>   -9.147</td> <td> 0.000</td> <td>   -0.826</td> <td>   -0.535</td>\n",
              "</tr>\n",
              "<tr>\n",
              "  <th>job_entrepreneur</th>    <td>   -0.7825</td> <td>    0.136</td> <td>   -5.734</td> <td> 0.000</td> <td>   -1.050</td> <td>   -0.515</td>\n",
              "</tr>\n",
              "<tr>\n",
              "  <th>job_housemaid</th>       <td>   -0.7163</td> <td>    0.142</td> <td>   -5.040</td> <td> 0.000</td> <td>   -0.995</td> <td>   -0.438</td>\n",
              "</tr>\n",
              "<tr>\n",
              "  <th>job_management</th>      <td>   -0.4975</td> <td>    0.077</td> <td>   -6.501</td> <td> 0.000</td> <td>   -0.648</td> <td>   -0.348</td>\n",
              "</tr>\n",
              "<tr>\n",
              "  <th>job_retired</th>         <td>    0.2463</td> <td>    0.107</td> <td>    2.298</td> <td> 0.022</td> <td>    0.036</td> <td>    0.456</td>\n",
              "</tr>\n",
              "<tr>\n",
              "  <th>job_self-employed</th>   <td>   -0.7101</td> <td>    0.121</td> <td>   -5.877</td> <td> 0.000</td> <td>   -0.947</td> <td>   -0.473</td>\n",
              "</tr>\n",
              "<tr>\n",
              "  <th>job_services</th>        <td>   -0.5353</td> <td>    0.089</td> <td>   -5.996</td> <td> 0.000</td> <td>   -0.710</td> <td>   -0.360</td>\n",
              "</tr>\n",
              "<tr>\n",
              "  <th>job_student</th>         <td>    0.1703</td> <td>    0.107</td> <td>    1.593</td> <td> 0.111</td> <td>   -0.039</td> <td>    0.380</td>\n",
              "</tr>\n",
              "<tr>\n",
              "  <th>job_technician</th>      <td>   -0.4998</td> <td>    0.071</td> <td>   -7.019</td> <td> 0.000</td> <td>   -0.639</td> <td>   -0.360</td>\n",
              "</tr>\n",
              "<tr>\n",
              "  <th>job_unemployed</th>      <td>   -0.5115</td> <td>    0.117</td> <td>   -4.384</td> <td> 0.000</td> <td>   -0.740</td> <td>   -0.283</td>\n",
              "</tr>\n",
              "<tr>\n",
              "  <th>job_unknown</th>         <td>   -0.7130</td> <td>    0.263</td> <td>   -2.716</td> <td> 0.007</td> <td>   -1.228</td> <td>   -0.198</td>\n",
              "</tr>\n",
              "<tr>\n",
              "  <th>education_secondary</th> <td>   -0.1548</td> <td>    0.056</td> <td>   -2.742</td> <td> 0.006</td> <td>   -0.265</td> <td>   -0.044</td>\n",
              "</tr>\n",
              "<tr>\n",
              "  <th>education_tertiary</th>  <td>    0.1605</td> <td>    0.068</td> <td>    2.368</td> <td> 0.018</td> <td>    0.028</td> <td>    0.293</td>\n",
              "</tr>\n",
              "<tr>\n",
              "  <th>contact_unknown</th>     <td>   -1.2376</td> <td>    0.064</td> <td>  -19.439</td> <td> 0.000</td> <td>   -1.362</td> <td>   -1.113</td>\n",
              "</tr>\n",
              "<tr>\n",
              "  <th>poutcome_success</th>    <td>    1.9770</td> <td>    0.083</td> <td>   23.798</td> <td> 0.000</td> <td>    1.814</td> <td>    2.140</td>\n",
              "</tr>\n",
              "<tr>\n",
              "  <th>poutcome_unknown</th>    <td>   -1.6911</td> <td>    0.092</td> <td>  -18.452</td> <td> 0.000</td> <td>   -1.871</td> <td>   -1.511</td>\n",
              "</tr>\n",
              "</table>"
            ],
            "text/plain": [
              "<class 'statsmodels.iolib.summary.Summary'>\n",
              "\"\"\"\n",
              "                           Logit Regression Results                           \n",
              "==============================================================================\n",
              "Dep. Variable:                 Target   No. Observations:                40209\n",
              "Model:                          Logit   Df Residuals:                    40185\n",
              "Method:                           MLE   Df Model:                           23\n",
              "Date:                Sun, 13 Sep 2020   Pseudo R-squ.:                  0.3132\n",
              "Time:                        15:03:27   Log-Likelihood:                -9026.6\n",
              "converged:                       True   LL-Null:                       -13144.\n",
              "Covariance Type:            nonrobust   LLR p-value:                     0.000\n",
              "=======================================================================================\n",
              "                          coef    std err          z      P>|z|      [0.025      0.975]\n",
              "---------------------------------------------------------------------------------------\n",
              "age                    -0.0229      0.002    -12.068      0.000      -0.027      -0.019\n",
              "balance               4.74e-05   1.05e-05      4.505      0.000    2.68e-05     6.8e-05\n",
              "housing                -0.9236      0.044    -21.131      0.000      -1.009      -0.838\n",
              "loan                   -0.6969      0.066    -10.623      0.000      -0.826      -0.568\n",
              "duration                0.0054   8.81e-05     60.897      0.000       0.005       0.006\n",
              "campaign               -0.1712      0.014    -12.646      0.000      -0.198      -0.145\n",
              "pdays                  -0.0060      0.000    -13.228      0.000      -0.007      -0.005\n",
              "previous               -0.0224      0.023     -0.982      0.326      -0.067       0.022\n",
              "job_blue-collar        -0.6804      0.074     -9.147      0.000      -0.826      -0.535\n",
              "job_entrepreneur       -0.7825      0.136     -5.734      0.000      -1.050      -0.515\n",
              "job_housemaid          -0.7163      0.142     -5.040      0.000      -0.995      -0.438\n",
              "job_management         -0.4975      0.077     -6.501      0.000      -0.648      -0.348\n",
              "job_retired             0.2463      0.107      2.298      0.022       0.036       0.456\n",
              "job_self-employed      -0.7101      0.121     -5.877      0.000      -0.947      -0.473\n",
              "job_services           -0.5353      0.089     -5.996      0.000      -0.710      -0.360\n",
              "job_student             0.1703      0.107      1.593      0.111      -0.039       0.380\n",
              "job_technician         -0.4998      0.071     -7.019      0.000      -0.639      -0.360\n",
              "job_unemployed         -0.5115      0.117     -4.384      0.000      -0.740      -0.283\n",
              "job_unknown            -0.7130      0.263     -2.716      0.007      -1.228      -0.198\n",
              "education_secondary    -0.1548      0.056     -2.742      0.006      -0.265      -0.044\n",
              "education_tertiary      0.1605      0.068      2.368      0.018       0.028       0.293\n",
              "contact_unknown        -1.2376      0.064    -19.439      0.000      -1.362      -1.113\n",
              "poutcome_success        1.9770      0.083     23.798      0.000       1.814       2.140\n",
              "poutcome_unknown       -1.6911      0.092    -18.452      0.000      -1.871      -1.511\n",
              "=======================================================================================\n",
              "\"\"\""
            ]
          },
          "metadata": {
            "tags": []
          },
          "execution_count": 36
        }
      ]
    },
    {
      "cell_type": "code",
      "metadata": {
        "execution": {
          "iopub.execute_input": "2020-09-13T15:03:27.958381Z",
          "iopub.status.busy": "2020-09-13T15:03:27.957589Z",
          "iopub.status.idle": "2020-09-13T15:03:27.961602Z",
          "shell.execute_reply": "2020-09-13T15:03:27.961027Z"
        },
        "papermill": {
          "duration": 0.083194,
          "end_time": "2020-09-13T15:03:27.961743",
          "exception": false,
          "start_time": "2020-09-13T15:03:27.878549",
          "status": "completed"
        },
        "tags": [],
        "id": "RF7Q8rA4MuZi"
      },
      "source": [
        "X.drop(['previous','job_student'],1,inplace=True)"
      ],
      "execution_count": null,
      "outputs": []
    },
    {
      "cell_type": "code",
      "metadata": {
        "execution": {
          "iopub.execute_input": "2020-09-13T15:03:28.165364Z",
          "iopub.status.busy": "2020-09-13T15:03:28.164702Z",
          "iopub.status.idle": "2020-09-13T15:03:28.505171Z",
          "shell.execute_reply": "2020-09-13T15:03:28.505801Z"
        },
        "papermill": {
          "duration": 0.438078,
          "end_time": "2020-09-13T15:03:28.505968",
          "exception": false,
          "start_time": "2020-09-13T15:03:28.067890",
          "status": "completed"
        },
        "tags": [],
        "id": "bUY25z9cMuZm",
        "outputId": "5ea24395-29ce-480a-9de4-8a3cba8b9660"
      },
      "source": [
        "res = sm.Logit(y,X).fit()\n",
        "res.summary()"
      ],
      "execution_count": null,
      "outputs": [
        {
          "output_type": "stream",
          "text": [
            "Optimization terminated successfully.\n",
            "         Current function value: 0.224530\n",
            "         Iterations 8\n"
          ],
          "name": "stdout"
        },
        {
          "output_type": "execute_result",
          "data": {
            "text/html": [
              "<table class=\"simpletable\">\n",
              "<caption>Logit Regression Results</caption>\n",
              "<tr>\n",
              "  <th>Dep. Variable:</th>        <td>Target</td>      <th>  No. Observations:  </th>  <td> 40209</td> \n",
              "</tr>\n",
              "<tr>\n",
              "  <th>Model:</th>                 <td>Logit</td>      <th>  Df Residuals:      </th>  <td> 40187</td> \n",
              "</tr>\n",
              "<tr>\n",
              "  <th>Method:</th>                 <td>MLE</td>       <th>  Df Model:          </th>  <td>    21</td> \n",
              "</tr>\n",
              "<tr>\n",
              "  <th>Date:</th>            <td>Sun, 13 Sep 2020</td> <th>  Pseudo R-squ.:     </th>  <td>0.3131</td> \n",
              "</tr>\n",
              "<tr>\n",
              "  <th>Time:</th>                <td>15:03:28</td>     <th>  Log-Likelihood:    </th> <td> -9028.1</td>\n",
              "</tr>\n",
              "<tr>\n",
              "  <th>converged:</th>             <td>True</td>       <th>  LL-Null:           </th> <td> -13144.</td>\n",
              "</tr>\n",
              "<tr>\n",
              "  <th>Covariance Type:</th>     <td>nonrobust</td>    <th>  LLR p-value:       </th>  <td> 0.000</td> \n",
              "</tr>\n",
              "</table>\n",
              "<table class=\"simpletable\">\n",
              "<tr>\n",
              "           <td></td>              <th>coef</th>     <th>std err</th>      <th>z</th>      <th>P>|z|</th>  <th>[0.025</th>    <th>0.975]</th>  \n",
              "</tr>\n",
              "<tr>\n",
              "  <th>age</th>                 <td>   -0.0235</td> <td>    0.002</td> <td>  -12.971</td> <td> 0.000</td> <td>   -0.027</td> <td>   -0.020</td>\n",
              "</tr>\n",
              "<tr>\n",
              "  <th>balance</th>             <td> 4.793e-05</td> <td> 1.05e-05</td> <td>    4.562</td> <td> 0.000</td> <td> 2.73e-05</td> <td> 6.85e-05</td>\n",
              "</tr>\n",
              "<tr>\n",
              "  <th>housing</th>             <td>   -0.9321</td> <td>    0.043</td> <td>  -21.459</td> <td> 0.000</td> <td>   -1.017</td> <td>   -0.847</td>\n",
              "</tr>\n",
              "<tr>\n",
              "  <th>loan</th>                <td>   -0.7035</td> <td>    0.066</td> <td>  -10.739</td> <td> 0.000</td> <td>   -0.832</td> <td>   -0.575</td>\n",
              "</tr>\n",
              "<tr>\n",
              "  <th>duration</th>            <td>    0.0054</td> <td>  8.8e-05</td> <td>   60.950</td> <td> 0.000</td> <td>    0.005</td> <td>    0.006</td>\n",
              "</tr>\n",
              "<tr>\n",
              "  <th>campaign</th>            <td>   -0.1715</td> <td>    0.013</td> <td>  -12.731</td> <td> 0.000</td> <td>   -0.198</td> <td>   -0.145</td>\n",
              "</tr>\n",
              "<tr>\n",
              "  <th>pdays</th>               <td>   -0.0059</td> <td>    0.000</td> <td>  -13.579</td> <td> 0.000</td> <td>   -0.007</td> <td>   -0.005</td>\n",
              "</tr>\n",
              "<tr>\n",
              "  <th>job_blue-collar</th>     <td>   -0.7147</td> <td>    0.071</td> <td>  -10.007</td> <td> 0.000</td> <td>   -0.855</td> <td>   -0.575</td>\n",
              "</tr>\n",
              "<tr>\n",
              "  <th>job_entrepreneur</th>    <td>   -0.8165</td> <td>    0.135</td> <td>   -6.060</td> <td> 0.000</td> <td>   -1.081</td> <td>   -0.552</td>\n",
              "</tr>\n",
              "<tr>\n",
              "  <th>job_housemaid</th>       <td>   -0.7497</td> <td>    0.141</td> <td>   -5.333</td> <td> 0.000</td> <td>   -1.025</td> <td>   -0.474</td>\n",
              "</tr>\n",
              "<tr>\n",
              "  <th>job_management</th>      <td>   -0.5347</td> <td>    0.073</td> <td>   -7.335</td> <td> 0.000</td> <td>   -0.678</td> <td>   -0.392</td>\n",
              "</tr>\n",
              "<tr>\n",
              "  <th>job_retired</th>         <td>    0.2208</td> <td>    0.105</td> <td>    2.095</td> <td> 0.036</td> <td>    0.014</td> <td>    0.427</td>\n",
              "</tr>\n",
              "<tr>\n",
              "  <th>job_self-employed</th>   <td>   -0.7476</td> <td>    0.119</td> <td>   -6.299</td> <td> 0.000</td> <td>   -0.980</td> <td>   -0.515</td>\n",
              "</tr>\n",
              "<tr>\n",
              "  <th>job_services</th>        <td>   -0.5699</td> <td>    0.087</td> <td>   -6.574</td> <td> 0.000</td> <td>   -0.740</td> <td>   -0.400</td>\n",
              "</tr>\n",
              "<tr>\n",
              "  <th>job_technician</th>      <td>   -0.5356</td> <td>    0.068</td> <td>   -7.912</td> <td> 0.000</td> <td>   -0.668</td> <td>   -0.403</td>\n",
              "</tr>\n",
              "<tr>\n",
              "  <th>job_unemployed</th>      <td>   -0.5472</td> <td>    0.115</td> <td>   -4.778</td> <td> 0.000</td> <td>   -0.772</td> <td>   -0.323</td>\n",
              "</tr>\n",
              "<tr>\n",
              "  <th>job_unknown</th>         <td>   -0.7511</td> <td>    0.262</td> <td>   -2.870</td> <td> 0.004</td> <td>   -1.264</td> <td>   -0.238</td>\n",
              "</tr>\n",
              "<tr>\n",
              "  <th>education_secondary</th> <td>   -0.1617</td> <td>    0.056</td> <td>   -2.908</td> <td> 0.004</td> <td>   -0.271</td> <td>   -0.053</td>\n",
              "</tr>\n",
              "<tr>\n",
              "  <th>education_tertiary</th>  <td>    0.1567</td> <td>    0.067</td> <td>    2.345</td> <td> 0.019</td> <td>    0.026</td> <td>    0.288</td>\n",
              "</tr>\n",
              "<tr>\n",
              "  <th>contact_unknown</th>     <td>   -1.2403</td> <td>    0.064</td> <td>  -19.486</td> <td> 0.000</td> <td>   -1.365</td> <td>   -1.116</td>\n",
              "</tr>\n",
              "<tr>\n",
              "  <th>poutcome_success</th>    <td>    1.9773</td> <td>    0.082</td> <td>   24.070</td> <td> 0.000</td> <td>    1.816</td> <td>    2.138</td>\n",
              "</tr>\n",
              "<tr>\n",
              "  <th>poutcome_unknown</th>    <td>   -1.6205</td> <td>    0.080</td> <td>  -20.356</td> <td> 0.000</td> <td>   -1.777</td> <td>   -1.464</td>\n",
              "</tr>\n",
              "</table>"
            ],
            "text/plain": [
              "<class 'statsmodels.iolib.summary.Summary'>\n",
              "\"\"\"\n",
              "                           Logit Regression Results                           \n",
              "==============================================================================\n",
              "Dep. Variable:                 Target   No. Observations:                40209\n",
              "Model:                          Logit   Df Residuals:                    40187\n",
              "Method:                           MLE   Df Model:                           21\n",
              "Date:                Sun, 13 Sep 2020   Pseudo R-squ.:                  0.3131\n",
              "Time:                        15:03:28   Log-Likelihood:                -9028.1\n",
              "converged:                       True   LL-Null:                       -13144.\n",
              "Covariance Type:            nonrobust   LLR p-value:                     0.000\n",
              "=======================================================================================\n",
              "                          coef    std err          z      P>|z|      [0.025      0.975]\n",
              "---------------------------------------------------------------------------------------\n",
              "age                    -0.0235      0.002    -12.971      0.000      -0.027      -0.020\n",
              "balance              4.793e-05   1.05e-05      4.562      0.000    2.73e-05    6.85e-05\n",
              "housing                -0.9321      0.043    -21.459      0.000      -1.017      -0.847\n",
              "loan                   -0.7035      0.066    -10.739      0.000      -0.832      -0.575\n",
              "duration                0.0054    8.8e-05     60.950      0.000       0.005       0.006\n",
              "campaign               -0.1715      0.013    -12.731      0.000      -0.198      -0.145\n",
              "pdays                  -0.0059      0.000    -13.579      0.000      -0.007      -0.005\n",
              "job_blue-collar        -0.7147      0.071    -10.007      0.000      -0.855      -0.575\n",
              "job_entrepreneur       -0.8165      0.135     -6.060      0.000      -1.081      -0.552\n",
              "job_housemaid          -0.7497      0.141     -5.333      0.000      -1.025      -0.474\n",
              "job_management         -0.5347      0.073     -7.335      0.000      -0.678      -0.392\n",
              "job_retired             0.2208      0.105      2.095      0.036       0.014       0.427\n",
              "job_self-employed      -0.7476      0.119     -6.299      0.000      -0.980      -0.515\n",
              "job_services           -0.5699      0.087     -6.574      0.000      -0.740      -0.400\n",
              "job_technician         -0.5356      0.068     -7.912      0.000      -0.668      -0.403\n",
              "job_unemployed         -0.5472      0.115     -4.778      0.000      -0.772      -0.323\n",
              "job_unknown            -0.7511      0.262     -2.870      0.004      -1.264      -0.238\n",
              "education_secondary    -0.1617      0.056     -2.908      0.004      -0.271      -0.053\n",
              "education_tertiary      0.1567      0.067      2.345      0.019       0.026       0.288\n",
              "contact_unknown        -1.2403      0.064    -19.486      0.000      -1.365      -1.116\n",
              "poutcome_success        1.9773      0.082     24.070      0.000       1.816       2.138\n",
              "poutcome_unknown       -1.6205      0.080    -20.356      0.000      -1.777      -1.464\n",
              "=======================================================================================\n",
              "\"\"\""
            ]
          },
          "metadata": {
            "tags": []
          },
          "execution_count": 38
        }
      ]
    },
    {
      "cell_type": "markdown",
      "metadata": {
        "papermill": {
          "duration": 0.073327,
          "end_time": "2020-09-13T15:03:28.654872",
          "exception": false,
          "start_time": "2020-09-13T15:03:28.581545",
          "status": "completed"
        },
        "tags": [],
        "id": "qBZ9kHd-MuZq"
      },
      "source": [
        "# *Synthetic Minority Oversampling Technique(SMOTE)*\n",
        "\n",
        "*SMOTE first selects a minority class instance x¹ at random and finds its k nearest minority class neighbors. The synthetic instance is then created by choosing one of the k nearest neighbors x² at random and connecting x¹ and x² to form a line segment in the feature space. The synthetic instances are generated as a convex combination of the two chosen instances x² and x¹.*"
      ]
    },
    {
      "cell_type": "code",
      "metadata": {
        "execution": {
          "iopub.execute_input": "2020-09-13T15:03:28.808857Z",
          "iopub.status.busy": "2020-09-13T15:03:28.808022Z",
          "iopub.status.idle": "2020-09-13T15:03:29.228640Z",
          "shell.execute_reply": "2020-09-13T15:03:29.228058Z"
        },
        "papermill": {
          "duration": 0.50037,
          "end_time": "2020-09-13T15:03:29.228772",
          "exception": false,
          "start_time": "2020-09-13T15:03:28.728402",
          "status": "completed"
        },
        "tags": [],
        "id": "WLKvvM90MuZs"
      },
      "source": [
        "from imblearn.over_sampling import SMOTE\n",
        "from imblearn.under_sampling import RandomUnderSampler\n",
        "from imblearn.pipeline import Pipeline\n",
        "from collections import Counter"
      ],
      "execution_count": null,
      "outputs": []
    },
    {
      "cell_type": "code",
      "metadata": {
        "execution": {
          "iopub.execute_input": "2020-09-13T15:03:29.395086Z",
          "iopub.status.busy": "2020-09-13T15:03:29.394330Z",
          "iopub.status.idle": "2020-09-13T15:03:29.550615Z",
          "shell.execute_reply": "2020-09-13T15:03:29.551105Z"
        },
        "papermill": {
          "duration": 0.248642,
          "end_time": "2020-09-13T15:03:29.551263",
          "exception": false,
          "start_time": "2020-09-13T15:03:29.302621",
          "status": "completed"
        },
        "tags": [],
        "id": "Uv2tki_lMuZv"
      },
      "source": [
        "#The numbers before SMOTE\n",
        "num_before = dict(Counter(y))\n",
        "\n",
        "#Performing SMOTE\n",
        "\n",
        "#Define pipeline\n",
        "over = SMOTE(sampling_strategy=0.8)\n",
        "under = RandomUnderSampler(sampling_strategy=0.8)\n",
        "steps = [('o', over), ('u', under)]\n",
        "pipeline = Pipeline(steps=steps)\n",
        "\n",
        "#Transforming the dataset\n",
        "X_smote, y_smote = pipeline.fit_resample(X, y)\n",
        "\n",
        "\n",
        "#Tthe numbers after SMOTE\n",
        "num_after =dict(Counter(y_smote))\n"
      ],
      "execution_count": null,
      "outputs": []
    },
    {
      "cell_type": "code",
      "metadata": {
        "execution": {
          "iopub.execute_input": "2020-09-13T15:03:29.704087Z",
          "iopub.status.busy": "2020-09-13T15:03:29.703022Z",
          "iopub.status.idle": "2020-09-13T15:03:29.710332Z",
          "shell.execute_reply": "2020-09-13T15:03:29.711151Z"
        },
        "papermill": {
          "duration": 0.086199,
          "end_time": "2020-09-13T15:03:29.711353",
          "exception": false,
          "start_time": "2020-09-13T15:03:29.625154",
          "status": "completed"
        },
        "tags": [],
        "id": "sP3yOfudMuZz",
        "outputId": "a6e5847a-082f-406d-dd39-f4752c94cfe7"
      },
      "source": [
        "print(num_before, num_after)"
      ],
      "execution_count": null,
      "outputs": [
        {
          "output_type": "stream",
          "text": [
            "{0: 36155, 1: 4054} {0: 36155, 1: 28924}\n"
          ],
          "name": "stdout"
        }
      ]
    },
    {
      "cell_type": "code",
      "metadata": {
        "execution": {
          "iopub.execute_input": "2020-09-13T15:03:29.877695Z",
          "iopub.status.busy": "2020-09-13T15:03:29.876987Z",
          "iopub.status.idle": "2020-09-13T15:03:30.225511Z",
          "shell.execute_reply": "2020-09-13T15:03:30.224851Z"
        },
        "papermill": {
          "duration": 0.437753,
          "end_time": "2020-09-13T15:03:30.225669",
          "exception": false,
          "start_time": "2020-09-13T15:03:29.787916",
          "status": "completed"
        },
        "tags": [],
        "id": "hkNvRzVjMuZ5",
        "outputId": "0e449baf-dee0-4ba1-854a-7c0bdecdb598"
      },
      "source": [
        "labels = [\"No\",\"Yes\"]\n",
        "plt.figure(figsize=(15,6))\n",
        "plt.subplot(1,2,1)\n",
        "sns.barplot(labels, list(num_before.values()))\n",
        "plt.title(\"Numbers Before Balancing\")\n",
        "plt.subplot(1,2,2)\n",
        "sns.barplot(labels, list(num_after.values()))\n",
        "plt.title(\"Numbers After Balancing\")\n",
        "plt.show()"
      ],
      "execution_count": null,
      "outputs": [
        {
          "output_type": "display_data",
          "data": {
            "image/png": "[encoded data removed]",
            "text/plain": [
              "<Figure size 1080x432 with 2 Axes>"
            ]
          },
          "metadata": {
            "tags": [],
            "needs_background": "light"
          }
        }
      ]
    },
    {
      "cell_type": "code",
      "metadata": {
        "execution": {
          "iopub.execute_input": "2020-09-13T15:03:30.389904Z",
          "iopub.status.busy": "2020-09-13T15:03:30.389115Z",
          "iopub.status.idle": "2020-09-13T15:03:30.391831Z",
          "shell.execute_reply": "2020-09-13T15:03:30.392344Z"
        },
        "papermill": {
          "duration": 0.089648,
          "end_time": "2020-09-13T15:03:30.392498",
          "exception": false,
          "start_time": "2020-09-13T15:03:30.302850",
          "status": "completed"
        },
        "tags": [],
        "id": "yEIMU6chMuZ-"
      },
      "source": [
        "X1 = pd.DataFrame(X_smote)\n",
        "y1= pd.DataFrame(y_smote)"
      ],
      "execution_count": null,
      "outputs": []
    },
    {
      "cell_type": "code",
      "metadata": {
        "execution": {
          "iopub.execute_input": "2020-09-13T15:03:30.552442Z",
          "iopub.status.busy": "2020-09-13T15:03:30.551745Z",
          "iopub.status.idle": "2020-09-13T15:03:30.572010Z",
          "shell.execute_reply": "2020-09-13T15:03:30.572537Z"
        },
        "papermill": {
          "duration": 0.103716,
          "end_time": "2020-09-13T15:03:30.572712",
          "exception": false,
          "start_time": "2020-09-13T15:03:30.468996",
          "status": "completed"
        },
        "tags": [],
        "id": "eM39ah9-MuaF",
        "outputId": "00cde32e-e78f-4652-e338-c60c645f305f"
      },
      "source": [
        "new_data = pd.concat([X1, y1], axis=1)\n",
        "new_data.columns = ['age', 'balance', 'housing', 'loan', 'duration', 'campaign', 'pdays','job_blue-collar','job_entrepreneur','job_housemaid',\n",
        "                    'job_management','job_retired','job_self-employed','job_services','job_technician','job_unemployed','job_unknown','education_secondary',\n",
        "                    'education_tertiary','contact_unknown','poutcome_success','poutcome_unknown','outcome']\n",
        "new_data.head()"
      ],
      "execution_count": null,
      "outputs": [
        {
          "output_type": "execute_result",
          "data": {
            "text/html": [
              "<div>\n",
              "<style scoped>\n",
              "    .dataframe tbody tr th:only-of-type {\n",
              "        vertical-align: middle;\n",
              "    }\n",
              "\n",
              "    .dataframe tbody tr th {\n",
              "        vertical-align: top;\n",
              "    }\n",
              "\n",
              "    .dataframe thead th {\n",
              "        text-align: right;\n",
              "    }\n",
              "</style>\n",
              "<table border=\"1\" class=\"dataframe\">\n",
              "  <thead>\n",
              "    <tr style=\"text-align: right;\">\n",
              "      <th></th>\n",
              "      <th>age</th>\n",
              "      <th>balance</th>\n",
              "      <th>housing</th>\n",
              "      <th>loan</th>\n",
              "      <th>duration</th>\n",
              "      <th>campaign</th>\n",
              "      <th>pdays</th>\n",
              "      <th>job_blue-collar</th>\n",
              "      <th>job_entrepreneur</th>\n",
              "      <th>job_housemaid</th>\n",
              "      <th>...</th>\n",
              "      <th>job_services</th>\n",
              "      <th>job_technician</th>\n",
              "      <th>job_unemployed</th>\n",
              "      <th>job_unknown</th>\n",
              "      <th>education_secondary</th>\n",
              "      <th>education_tertiary</th>\n",
              "      <th>contact_unknown</th>\n",
              "      <th>poutcome_success</th>\n",
              "      <th>poutcome_unknown</th>\n",
              "      <th>outcome</th>\n",
              "    </tr>\n",
              "  </thead>\n",
              "  <tbody>\n",
              "    <tr>\n",
              "      <th>0</th>\n",
              "      <td>59</td>\n",
              "      <td>20</td>\n",
              "      <td>0</td>\n",
              "      <td>0</td>\n",
              "      <td>298</td>\n",
              "      <td>1</td>\n",
              "      <td>-1</td>\n",
              "      <td>0</td>\n",
              "      <td>0</td>\n",
              "      <td>0</td>\n",
              "      <td>...</td>\n",
              "      <td>0</td>\n",
              "      <td>0</td>\n",
              "      <td>0</td>\n",
              "      <td>0</td>\n",
              "      <td>0</td>\n",
              "      <td>0</td>\n",
              "      <td>0</td>\n",
              "      <td>0</td>\n",
              "      <td>1</td>\n",
              "      <td>0</td>\n",
              "    </tr>\n",
              "    <tr>\n",
              "      <th>1</th>\n",
              "      <td>45</td>\n",
              "      <td>-149</td>\n",
              "      <td>1</td>\n",
              "      <td>0</td>\n",
              "      <td>287</td>\n",
              "      <td>2</td>\n",
              "      <td>-1</td>\n",
              "      <td>0</td>\n",
              "      <td>0</td>\n",
              "      <td>0</td>\n",
              "      <td>...</td>\n",
              "      <td>0</td>\n",
              "      <td>1</td>\n",
              "      <td>0</td>\n",
              "      <td>0</td>\n",
              "      <td>1</td>\n",
              "      <td>0</td>\n",
              "      <td>0</td>\n",
              "      <td>0</td>\n",
              "      <td>1</td>\n",
              "      <td>0</td>\n",
              "    </tr>\n",
              "    <tr>\n",
              "      <th>2</th>\n",
              "      <td>37</td>\n",
              "      <td>4303</td>\n",
              "      <td>1</td>\n",
              "      <td>0</td>\n",
              "      <td>168</td>\n",
              "      <td>1</td>\n",
              "      <td>-1</td>\n",
              "      <td>0</td>\n",
              "      <td>0</td>\n",
              "      <td>0</td>\n",
              "      <td>...</td>\n",
              "      <td>0</td>\n",
              "      <td>0</td>\n",
              "      <td>0</td>\n",
              "      <td>0</td>\n",
              "      <td>0</td>\n",
              "      <td>1</td>\n",
              "      <td>1</td>\n",
              "      <td>0</td>\n",
              "      <td>1</td>\n",
              "      <td>0</td>\n",
              "    </tr>\n",
              "    <tr>\n",
              "      <th>3</th>\n",
              "      <td>45</td>\n",
              "      <td>1273</td>\n",
              "      <td>1</td>\n",
              "      <td>1</td>\n",
              "      <td>197</td>\n",
              "      <td>3</td>\n",
              "      <td>-1</td>\n",
              "      <td>0</td>\n",
              "      <td>1</td>\n",
              "      <td>0</td>\n",
              "      <td>...</td>\n",
              "      <td>0</td>\n",
              "      <td>0</td>\n",
              "      <td>0</td>\n",
              "      <td>0</td>\n",
              "      <td>0</td>\n",
              "      <td>1</td>\n",
              "      <td>1</td>\n",
              "      <td>0</td>\n",
              "      <td>1</td>\n",
              "      <td>0</td>\n",
              "    </tr>\n",
              "    <tr>\n",
              "      <th>4</th>\n",
              "      <td>36</td>\n",
              "      <td>-155</td>\n",
              "      <td>1</td>\n",
              "      <td>0</td>\n",
              "      <td>94</td>\n",
              "      <td>1</td>\n",
              "      <td>-1</td>\n",
              "      <td>0</td>\n",
              "      <td>0</td>\n",
              "      <td>0</td>\n",
              "      <td>...</td>\n",
              "      <td>0</td>\n",
              "      <td>0</td>\n",
              "      <td>0</td>\n",
              "      <td>0</td>\n",
              "      <td>0</td>\n",
              "      <td>1</td>\n",
              "      <td>0</td>\n",
              "      <td>0</td>\n",
              "      <td>1</td>\n",
              "      <td>0</td>\n",
              "    </tr>\n",
              "  </tbody>\n",
              "</table>\n",
              "<p>5 rows × 23 columns</p>\n",
              "</div>"
            ],
            "text/plain": [
              "   age  balance  housing  loan  duration  campaign  pdays  job_blue-collar  \\\n",
              "0   59       20        0     0       298         1     -1                0   \n",
              "1   45     -149        1     0       287         2     -1                0   \n",
              "2   37     4303        1     0       168         1     -1                0   \n",
              "3   45     1273        1     1       197         3     -1                0   \n",
              "4   36     -155        1     0        94         1     -1                0   \n",
              "\n",
              "   job_entrepreneur  job_housemaid  ...  job_services  job_technician  \\\n",
              "0                 0              0  ...             0               0   \n",
              "1                 0              0  ...             0               1   \n",
              "2                 0              0  ...             0               0   \n",
              "3                 1              0  ...             0               0   \n",
              "4                 0              0  ...             0               0   \n",
              "\n",
              "   job_unemployed  job_unknown  education_secondary  education_tertiary  \\\n",
              "0               0            0                    0                   0   \n",
              "1               0            0                    1                   0   \n",
              "2               0            0                    0                   1   \n",
              "3               0            0                    0                   1   \n",
              "4               0            0                    0                   1   \n",
              "\n",
              "   contact_unknown  poutcome_success  poutcome_unknown  outcome  \n",
              "0                0                 0                 1        0  \n",
              "1                0                 0                 1        0  \n",
              "2                1                 0                 1        0  \n",
              "3                1                 0                 1        0  \n",
              "4                0                 0                 1        0  \n",
              "\n",
              "[5 rows x 23 columns]"
            ]
          },
          "metadata": {
            "tags": []
          },
          "execution_count": 44
        }
      ]
    },
    {
      "cell_type": "code",
      "metadata": {
        "execution": {
          "iopub.execute_input": "2020-09-13T15:03:30.731519Z",
          "iopub.status.busy": "2020-09-13T15:03:30.730718Z",
          "iopub.status.idle": "2020-09-13T15:03:30.740437Z",
          "shell.execute_reply": "2020-09-13T15:03:30.739868Z"
        },
        "papermill": {
          "duration": 0.091915,
          "end_time": "2020-09-13T15:03:30.740576",
          "exception": false,
          "start_time": "2020-09-13T15:03:30.648661",
          "status": "completed"
        },
        "tags": [],
        "id": "4zB5hOB6MuaJ"
      },
      "source": [
        "X_new = new_data.drop(['outcome'],1)\n",
        "y_new = new_data['outcome']"
      ],
      "execution_count": null,
      "outputs": []
    },
    {
      "cell_type": "code",
      "metadata": {
        "execution": {
          "iopub.execute_input": "2020-09-13T15:03:30.904735Z",
          "iopub.status.busy": "2020-09-13T15:03:30.903717Z",
          "iopub.status.idle": "2020-09-13T15:03:30.915053Z",
          "shell.execute_reply": "2020-09-13T15:03:30.915631Z"
        },
        "papermill": {
          "duration": 0.099003,
          "end_time": "2020-09-13T15:03:30.915779",
          "exception": false,
          "start_time": "2020-09-13T15:03:30.816776",
          "status": "completed"
        },
        "tags": [],
        "id": "1zOW-bUjMuaN",
        "outputId": "ca6cc5cb-62f7-4f73-859b-65fae790eec1"
      },
      "source": [
        "X_new.head()"
      ],
      "execution_count": null,
      "outputs": [
        {
          "output_type": "execute_result",
          "data": {
            "text/html": [
              "<div>\n",
              "<style scoped>\n",
              "    .dataframe tbody tr th:only-of-type {\n",
              "        vertical-align: middle;\n",
              "    }\n",
              "\n",
              "    .dataframe tbody tr th {\n",
              "        vertical-align: top;\n",
              "    }\n",
              "\n",
              "    .dataframe thead th {\n",
              "        text-align: right;\n",
              "    }\n",
              "</style>\n",
              "<table border=\"1\" class=\"dataframe\">\n",
              "  <thead>\n",
              "    <tr style=\"text-align: right;\">\n",
              "      <th></th>\n",
              "      <th>age</th>\n",
              "      <th>balance</th>\n",
              "      <th>housing</th>\n",
              "      <th>loan</th>\n",
              "      <th>duration</th>\n",
              "      <th>campaign</th>\n",
              "      <th>pdays</th>\n",
              "      <th>job_blue-collar</th>\n",
              "      <th>job_entrepreneur</th>\n",
              "      <th>job_housemaid</th>\n",
              "      <th>...</th>\n",
              "      <th>job_self-employed</th>\n",
              "      <th>job_services</th>\n",
              "      <th>job_technician</th>\n",
              "      <th>job_unemployed</th>\n",
              "      <th>job_unknown</th>\n",
              "      <th>education_secondary</th>\n",
              "      <th>education_tertiary</th>\n",
              "      <th>contact_unknown</th>\n",
              "      <th>poutcome_success</th>\n",
              "      <th>poutcome_unknown</th>\n",
              "    </tr>\n",
              "  </thead>\n",
              "  <tbody>\n",
              "    <tr>\n",
              "      <th>0</th>\n",
              "      <td>59</td>\n",
              "      <td>20</td>\n",
              "      <td>0</td>\n",
              "      <td>0</td>\n",
              "      <td>298</td>\n",
              "      <td>1</td>\n",
              "      <td>-1</td>\n",
              "      <td>0</td>\n",
              "      <td>0</td>\n",
              "      <td>0</td>\n",
              "      <td>...</td>\n",
              "      <td>0</td>\n",
              "      <td>0</td>\n",
              "      <td>0</td>\n",
              "      <td>0</td>\n",
              "      <td>0</td>\n",
              "      <td>0</td>\n",
              "      <td>0</td>\n",
              "      <td>0</td>\n",
              "      <td>0</td>\n",
              "      <td>1</td>\n",
              "    </tr>\n",
              "    <tr>\n",
              "      <th>1</th>\n",
              "      <td>45</td>\n",
              "      <td>-149</td>\n",
              "      <td>1</td>\n",
              "      <td>0</td>\n",
              "      <td>287</td>\n",
              "      <td>2</td>\n",
              "      <td>-1</td>\n",
              "      <td>0</td>\n",
              "      <td>0</td>\n",
              "      <td>0</td>\n",
              "      <td>...</td>\n",
              "      <td>0</td>\n",
              "      <td>0</td>\n",
              "      <td>1</td>\n",
              "      <td>0</td>\n",
              "      <td>0</td>\n",
              "      <td>1</td>\n",
              "      <td>0</td>\n",
              "      <td>0</td>\n",
              "      <td>0</td>\n",
              "      <td>1</td>\n",
              "    </tr>\n",
              "    <tr>\n",
              "      <th>2</th>\n",
              "      <td>37</td>\n",
              "      <td>4303</td>\n",
              "      <td>1</td>\n",
              "      <td>0</td>\n",
              "      <td>168</td>\n",
              "      <td>1</td>\n",
              "      <td>-1</td>\n",
              "      <td>0</td>\n",
              "      <td>0</td>\n",
              "      <td>0</td>\n",
              "      <td>...</td>\n",
              "      <td>0</td>\n",
              "      <td>0</td>\n",
              "      <td>0</td>\n",
              "      <td>0</td>\n",
              "      <td>0</td>\n",
              "      <td>0</td>\n",
              "      <td>1</td>\n",
              "      <td>1</td>\n",
              "      <td>0</td>\n",
              "      <td>1</td>\n",
              "    </tr>\n",
              "    <tr>\n",
              "      <th>3</th>\n",
              "      <td>45</td>\n",
              "      <td>1273</td>\n",
              "      <td>1</td>\n",
              "      <td>1</td>\n",
              "      <td>197</td>\n",
              "      <td>3</td>\n",
              "      <td>-1</td>\n",
              "      <td>0</td>\n",
              "      <td>1</td>\n",
              "      <td>0</td>\n",
              "      <td>...</td>\n",
              "      <td>0</td>\n",
              "      <td>0</td>\n",
              "      <td>0</td>\n",
              "      <td>0</td>\n",
              "      <td>0</td>\n",
              "      <td>0</td>\n",
              "      <td>1</td>\n",
              "      <td>1</td>\n",
              "      <td>0</td>\n",
              "      <td>1</td>\n",
              "    </tr>\n",
              "    <tr>\n",
              "      <th>4</th>\n",
              "      <td>36</td>\n",
              "      <td>-155</td>\n",
              "      <td>1</td>\n",
              "      <td>0</td>\n",
              "      <td>94</td>\n",
              "      <td>1</td>\n",
              "      <td>-1</td>\n",
              "      <td>0</td>\n",
              "      <td>0</td>\n",
              "      <td>0</td>\n",
              "      <td>...</td>\n",
              "      <td>0</td>\n",
              "      <td>0</td>\n",
              "      <td>0</td>\n",
              "      <td>0</td>\n",
              "      <td>0</td>\n",
              "      <td>0</td>\n",
              "      <td>1</td>\n",
              "      <td>0</td>\n",
              "      <td>0</td>\n",
              "      <td>1</td>\n",
              "    </tr>\n",
              "  </tbody>\n",
              "</table>\n",
              "<p>5 rows × 22 columns</p>\n",
              "</div>"
            ],
            "text/plain": [
              "   age  balance  housing  loan  duration  campaign  pdays  job_blue-collar  \\\n",
              "0   59       20        0     0       298         1     -1                0   \n",
              "1   45     -149        1     0       287         2     -1                0   \n",
              "2   37     4303        1     0       168         1     -1                0   \n",
              "3   45     1273        1     1       197         3     -1                0   \n",
              "4   36     -155        1     0        94         1     -1                0   \n",
              "\n",
              "   job_entrepreneur  job_housemaid  ...  job_self-employed  job_services  \\\n",
              "0                 0              0  ...                  0             0   \n",
              "1                 0              0  ...                  0             0   \n",
              "2                 0              0  ...                  0             0   \n",
              "3                 1              0  ...                  0             0   \n",
              "4                 0              0  ...                  0             0   \n",
              "\n",
              "   job_technician  job_unemployed  job_unknown  education_secondary  \\\n",
              "0               0               0            0                    0   \n",
              "1               1               0            0                    1   \n",
              "2               0               0            0                    0   \n",
              "3               0               0            0                    0   \n",
              "4               0               0            0                    0   \n",
              "\n",
              "   education_tertiary  contact_unknown  poutcome_success  poutcome_unknown  \n",
              "0                   0                0                 0                 1  \n",
              "1                   0                0                 0                 1  \n",
              "2                   1                1                 0                 1  \n",
              "3                   1                1                 0                 1  \n",
              "4                   1                0                 0                 1  \n",
              "\n",
              "[5 rows x 22 columns]"
            ]
          },
          "metadata": {
            "tags": []
          },
          "execution_count": 46
        }
      ]
    },
    {
      "cell_type": "code",
      "metadata": {
        "execution": {
          "iopub.execute_input": "2020-09-13T15:03:31.077019Z",
          "iopub.status.busy": "2020-09-13T15:03:31.076371Z",
          "iopub.status.idle": "2020-09-13T15:03:31.093985Z",
          "shell.execute_reply": "2020-09-13T15:03:31.094501Z"
        },
        "papermill": {
          "duration": 0.099057,
          "end_time": "2020-09-13T15:03:31.094667",
          "exception": false,
          "start_time": "2020-09-13T15:03:30.995610",
          "status": "completed"
        },
        "tags": [],
        "id": "u7541DP2MuaS"
      },
      "source": [
        "from sklearn.model_selection import train_test_split\n",
        "x_train, x_test, y_train, y_test = train_test_split(X_new,y_new,test_size=0.2,random_state=0)"
      ],
      "execution_count": null,
      "outputs": []
    },
    {
      "cell_type": "code",
      "metadata": {
        "execution": {
          "iopub.execute_input": "2020-09-13T15:03:31.257307Z",
          "iopub.status.busy": "2020-09-13T15:03:31.256419Z",
          "iopub.status.idle": "2020-09-13T15:03:31.300412Z",
          "shell.execute_reply": "2020-09-13T15:03:31.299867Z"
        },
        "papermill": {
          "duration": 0.12785,
          "end_time": "2020-09-13T15:03:31.300526",
          "exception": false,
          "start_time": "2020-09-13T15:03:31.172676",
          "status": "completed"
        },
        "tags": [],
        "id": "ZHbU5B34MuaY"
      },
      "source": [
        "from sklearn.preprocessing import StandardScaler\n",
        "sc = StandardScaler()\n",
        "x_train = sc.fit_transform(x_train)\n",
        "x_test = sc.transform(x_test)"
      ],
      "execution_count": null,
      "outputs": []
    },
    {
      "cell_type": "markdown",
      "metadata": {
        "papermill": {
          "duration": 0.077961,
          "end_time": "2020-09-13T15:03:31.456762",
          "exception": false,
          "start_time": "2020-09-13T15:03:31.378801",
          "status": "completed"
        },
        "tags": [],
        "id": "RW3fr_x3Muae"
      },
      "source": [
        "# Logistic regression"
      ]
    },
    {
      "cell_type": "code",
      "metadata": {
        "execution": {
          "iopub.execute_input": "2020-09-13T15:03:31.615256Z",
          "iopub.status.busy": "2020-09-13T15:03:31.614492Z",
          "iopub.status.idle": "2020-09-13T15:03:31.732238Z",
          "shell.execute_reply": "2020-09-13T15:03:31.732957Z"
        },
        "papermill": {
          "duration": 0.198954,
          "end_time": "2020-09-13T15:03:31.733152",
          "exception": false,
          "start_time": "2020-09-13T15:03:31.534198",
          "status": "completed"
        },
        "tags": [],
        "id": "Et1XLhqaMuaf",
        "outputId": "2ae80c06-5885-42a4-c374-581db9dcbdbd"
      },
      "source": [
        "from sklearn.linear_model import LogisticRegression\n",
        "lr = LogisticRegression(random_state = 0)\n",
        "lr.fit(x_train, y_train)"
      ],
      "execution_count": null,
      "outputs": [
        {
          "output_type": "execute_result",
          "data": {
            "text/plain": [
              "LogisticRegression(random_state=0)"
            ]
          },
          "metadata": {
            "tags": []
          },
          "execution_count": 49
        }
      ]
    },
    {
      "cell_type": "code",
      "metadata": {
        "execution": {
          "iopub.execute_input": "2020-09-13T15:03:31.903001Z",
          "iopub.status.busy": "2020-09-13T15:03:31.902244Z",
          "iopub.status.idle": "2020-09-13T15:03:31.905614Z",
          "shell.execute_reply": "2020-09-13T15:03:31.903578Z"
        },
        "papermill": {
          "duration": 0.090309,
          "end_time": "2020-09-13T15:03:31.905730",
          "exception": false,
          "start_time": "2020-09-13T15:03:31.815421",
          "status": "completed"
        },
        "tags": [],
        "id": "yzEvvoBDMuak",
        "outputId": "9378994c-11c1-4c47-8cbe-21b0cb488c54"
      },
      "source": [
        "y_pred = lr.predict(x_test)\n",
        "print(y_pred)"
      ],
      "execution_count": null,
      "outputs": [
        {
          "output_type": "stream",
          "text": [
            "[0 0 0 ... 0 1 1]\n"
          ],
          "name": "stdout"
        }
      ]
    },
    {
      "cell_type": "code",
      "metadata": {
        "execution": {
          "iopub.execute_input": "2020-09-13T15:03:32.071513Z",
          "iopub.status.busy": "2020-09-13T15:03:32.070574Z",
          "iopub.status.idle": "2020-09-13T15:03:32.115462Z",
          "shell.execute_reply": "2020-09-13T15:03:32.115977Z"
        },
        "papermill": {
          "duration": 0.131886,
          "end_time": "2020-09-13T15:03:32.116113",
          "exception": false,
          "start_time": "2020-09-13T15:03:31.984227",
          "status": "completed"
        },
        "tags": [],
        "id": "4XgmSShgMuap",
        "outputId": "371a6028-e23e-476d-918b-511265c2331b"
      },
      "source": [
        "from sklearn.metrics import confusion_matrix, accuracy_score, precision_score, recall_score, f1_score\n",
        "cm = confusion_matrix(y_test, y_pred)\n",
        "acc = accuracy_score(y_test, y_pred)\n",
        "pre = precision_score(y_test, y_pred)\n",
        "recall = recall_score(y_test, y_pred)\n",
        "f1 = f1_score(y_test, y_pred)\n",
        "\n",
        "print(\"Confusion Matrix : \\n\",cm)\n",
        "print(\"Accuracy :\",acc)\n",
        "print(\"Precision :\",pre)\n",
        "print(\"Recall :\",recall)\n",
        "print(\"F1-score :\",f1)"
      ],
      "execution_count": null,
      "outputs": [
        {
          "output_type": "stream",
          "text": [
            "Confusion Matrix : \n",
            " [[6516  569]\n",
            " [ 673 5258]]\n",
            "Accuracy : 0.9045789797172711\n",
            "Precision : 0.9023511240775699\n",
            "Recall : 0.8865284100488956\n",
            "F1-score : 0.8943697907807451\n"
          ],
          "name": "stdout"
        }
      ]
    }
  ]
}